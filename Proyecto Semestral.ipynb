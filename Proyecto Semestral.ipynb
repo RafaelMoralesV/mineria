{
 "cells": [
  {
   "cell_type": "markdown",
   "metadata": {
    "id": "niksdOba6iPR"
   },
   "source": [
    "# Proyecto Semestral Minería de Datos\n",
    "En el siguiente notebook se cuentra toda la manipulación de datos para el proyecto semestral de minería de datos, el cual consta de la creación de un modelo para predecir si es una canción será popular"
   ]
  },
  {
   "cell_type": "markdown",
   "metadata": {
    "id": "VMe9IoRZF41v"
   },
   "source": [
    "### Clustering using scikit-learn (with pandas and matplotlib)"
   ]
  },
  {
   "cell_type": "code",
   "execution_count": 1,
   "metadata": {
    "ExecuteTime": {
     "end_time": "2020-10-23T20:04:13.013473Z",
     "start_time": "2020-10-23T20:03:56.396929Z"
    },
    "executionInfo": {
     "elapsed": 2169,
     "status": "ok",
     "timestamp": 1669612862717,
     "user": {
      "displayName": "MATÍAS ALEJANDRO MUÑOZ MERINO",
      "userId": "03351317620509931932"
     },
     "user_tz": 180
    },
    "id": "IYdOcrS5F41w"
   },
   "outputs": [],
   "source": [
    "import pandas as pd\n",
    "import matplotlib.pyplot as plt\n",
    "from pandas_profiling import ProfileReport\n",
    "%matplotlib inline\n",
    "pd.set_option('display.max_colwidth', None)\n",
    "import csv\n",
    "import numpy as np\n",
    "from sklearn import cluster\n",
    "from scipy.spatial.distance import cdist\n",
    "from scipy.cluster.hierarchy import dendrogram, linkage  \n",
    "\n"
   ]
  },
  {
   "cell_type": "code",
   "execution_count": 2,
   "metadata": {
    "colab": {
     "base_uri": "https://localhost:8080/"
    },
    "executionInfo": {
     "elapsed": 1601,
     "status": "ok",
     "timestamp": 1669612864314,
     "user": {
      "displayName": "MATÍAS ALEJANDRO MUÑOZ MERINO",
      "userId": "03351317620509931932"
     },
     "user_tz": 180
    },
    "id": "fMYTo7pF3lb7",
    "outputId": "79b80c93-7902-4cd1-dc29-494e5750268c"
   },
   "outputs": [
    {
     "name": "stdout",
     "output_type": "stream",
     "text": [
      "Drive already mounted at /content/drive; to attempt to forcibly remount, call drive.mount(\"/content/drive\", force_remount=True).\n"
     ]
    }
   ],
   "source": [
    "from google.colab import drive\n",
    "drive.mount('/content/drive')"
   ]
  },
  {
   "cell_type": "code",
   "execution_count": 3,
   "metadata": {
    "executionInfo": {
     "elapsed": 37,
     "status": "ok",
     "timestamp": 1669612864315,
     "user": {
      "displayName": "MATÍAS ALEJANDRO MUÑOZ MERINO",
      "userId": "03351317620509931932"
     },
     "user_tz": 180
    },
    "id": "Qjg2hGpF66HY"
   },
   "outputs": [],
   "source": [
    "ruta = '/content/drive/Shareddrives/Minería de Datos/Manipulación de datos' "
   ]
  },
  {
   "cell_type": "markdown",
   "metadata": {
    "id": "YY9Bx9Bn7Hlo"
   },
   "source": [
    "Lectura del dataset y selección de columnas"
   ]
  },
  {
   "cell_type": "code",
   "execution_count": 4,
   "metadata": {
    "ExecuteTime": {
     "end_time": "2020-10-23T20:04:13.106256Z",
     "start_time": "2020-10-23T20:04:13.035771Z"
    },
    "colab": {
     "base_uri": "https://localhost:8080/",
     "height": 461
    },
    "executionInfo": {
     "elapsed": 36,
     "status": "ok",
     "timestamp": 1669612864316,
     "user": {
      "displayName": "MATÍAS ALEJANDRO MUÑOZ MERINO",
      "userId": "03351317620509931932"
     },
     "user_tz": 180
    },
    "id": "bWMcokx-F411",
    "outputId": "4108422a-34db-404f-dc47-1813dfd78657"
   },
   "outputs": [
    {
     "data": {
      "text/html": [
       "\n",
       "  <div id=\"df-53ac9562-eefd-4ce0-a3f9-6b8b76cb7cd2\">\n",
       "    <div class=\"colab-df-container\">\n",
       "      <div>\n",
       "<style scoped>\n",
       "    .dataframe tbody tr th:only-of-type {\n",
       "        vertical-align: middle;\n",
       "    }\n",
       "\n",
       "    .dataframe tbody tr th {\n",
       "        vertical-align: top;\n",
       "    }\n",
       "\n",
       "    .dataframe thead th {\n",
       "        text-align: right;\n",
       "    }\n",
       "</style>\n",
       "<table border=\"1\" class=\"dataframe\">\n",
       "  <thead>\n",
       "    <tr style=\"text-align: right;\">\n",
       "      <th></th>\n",
       "      <th>track_name</th>\n",
       "      <th>artist_name</th>\n",
       "      <th>artist_pop</th>\n",
       "      <th>album</th>\n",
       "      <th>track_pop</th>\n",
       "      <th>danceability</th>\n",
       "      <th>energy</th>\n",
       "      <th>loudness</th>\n",
       "      <th>mode</th>\n",
       "      <th>key</th>\n",
       "      <th>speechiness</th>\n",
       "      <th>acousticness</th>\n",
       "      <th>instrumentalness</th>\n",
       "      <th>liveness</th>\n",
       "      <th>valence</th>\n",
       "      <th>tempo</th>\n",
       "      <th>time_signature</th>\n",
       "      <th>duration_ms</th>\n",
       "    </tr>\n",
       "  </thead>\n",
       "  <tbody>\n",
       "    <tr>\n",
       "      <th>0</th>\n",
       "      <td>STAY (with Justin Bieber)</td>\n",
       "      <td>The Kid LAROI</td>\n",
       "      <td>83</td>\n",
       "      <td>STAY (with Justin Bieber)</td>\n",
       "      <td>89</td>\n",
       "      <td>0.591</td>\n",
       "      <td>0.764</td>\n",
       "      <td>-5.484</td>\n",
       "      <td>1</td>\n",
       "      <td>1</td>\n",
       "      <td>0.0483</td>\n",
       "      <td>0.0383</td>\n",
       "      <td>0.000000</td>\n",
       "      <td>0.1030</td>\n",
       "      <td>0.478</td>\n",
       "      <td>169.928</td>\n",
       "      <td>4</td>\n",
       "      <td>141806</td>\n",
       "    </tr>\n",
       "    <tr>\n",
       "      <th>1</th>\n",
       "      <td>Peaches (feat. Daniel Caesar &amp; Giveon)</td>\n",
       "      <td>Justin Bieber</td>\n",
       "      <td>90</td>\n",
       "      <td>Justice</td>\n",
       "      <td>86</td>\n",
       "      <td>0.677</td>\n",
       "      <td>0.696</td>\n",
       "      <td>-6.181</td>\n",
       "      <td>1</td>\n",
       "      <td>0</td>\n",
       "      <td>0.1190</td>\n",
       "      <td>0.3210</td>\n",
       "      <td>0.000000</td>\n",
       "      <td>0.4200</td>\n",
       "      <td>0.464</td>\n",
       "      <td>90.030</td>\n",
       "      <td>4</td>\n",
       "      <td>198082</td>\n",
       "    </tr>\n",
       "    <tr>\n",
       "      <th>2</th>\n",
       "      <td>edamame (feat. Rich Brian)</td>\n",
       "      <td>bbno$</td>\n",
       "      <td>72</td>\n",
       "      <td>edamame (feat. Rich Brian)</td>\n",
       "      <td>77</td>\n",
       "      <td>0.815</td>\n",
       "      <td>0.848</td>\n",
       "      <td>-4.704</td>\n",
       "      <td>0</td>\n",
       "      <td>4</td>\n",
       "      <td>0.1150</td>\n",
       "      <td>0.0230</td>\n",
       "      <td>0.000162</td>\n",
       "      <td>0.0265</td>\n",
       "      <td>0.684</td>\n",
       "      <td>106.032</td>\n",
       "      <td>4</td>\n",
       "      <td>133707</td>\n",
       "    </tr>\n",
       "    <tr>\n",
       "      <th>3</th>\n",
       "      <td>Here's Your Perfect</td>\n",
       "      <td>Jamie Miller</td>\n",
       "      <td>65</td>\n",
       "      <td>Here's Your Perfect</td>\n",
       "      <td>77</td>\n",
       "      <td>0.558</td>\n",
       "      <td>0.454</td>\n",
       "      <td>-5.335</td>\n",
       "      <td>1</td>\n",
       "      <td>6</td>\n",
       "      <td>0.0551</td>\n",
       "      <td>0.4990</td>\n",
       "      <td>0.000000</td>\n",
       "      <td>0.1460</td>\n",
       "      <td>0.424</td>\n",
       "      <td>113.120</td>\n",
       "      <td>4</td>\n",
       "      <td>158594</td>\n",
       "    </tr>\n",
       "    <tr>\n",
       "      <th>4</th>\n",
       "      <td>It's You</td>\n",
       "      <td>Sezairi</td>\n",
       "      <td>57</td>\n",
       "      <td>It's You</td>\n",
       "      <td>73</td>\n",
       "      <td>0.630</td>\n",
       "      <td>0.456</td>\n",
       "      <td>-8.285</td>\n",
       "      <td>1</td>\n",
       "      <td>8</td>\n",
       "      <td>0.0317</td>\n",
       "      <td>0.5450</td>\n",
       "      <td>0.000000</td>\n",
       "      <td>0.1140</td>\n",
       "      <td>0.166</td>\n",
       "      <td>137.915</td>\n",
       "      <td>3</td>\n",
       "      <td>251440</td>\n",
       "    </tr>\n",
       "  </tbody>\n",
       "</table>\n",
       "</div>\n",
       "      <button class=\"colab-df-convert\" onclick=\"convertToInteractive('df-53ac9562-eefd-4ce0-a3f9-6b8b76cb7cd2')\"\n",
       "              title=\"Convert this dataframe to an interactive table.\"\n",
       "              style=\"display:none;\">\n",
       "        \n",
       "  <svg xmlns=\"http://www.w3.org/2000/svg\" height=\"24px\"viewBox=\"0 0 24 24\"\n",
       "       width=\"24px\">\n",
       "    <path d=\"M0 0h24v24H0V0z\" fill=\"none\"/>\n",
       "    <path d=\"M18.56 5.44l.94 2.06.94-2.06 2.06-.94-2.06-.94-.94-2.06-.94 2.06-2.06.94zm-11 1L8.5 8.5l.94-2.06 2.06-.94-2.06-.94L8.5 2.5l-.94 2.06-2.06.94zm10 10l.94 2.06.94-2.06 2.06-.94-2.06-.94-.94-2.06-.94 2.06-2.06.94z\"/><path d=\"M17.41 7.96l-1.37-1.37c-.4-.4-.92-.59-1.43-.59-.52 0-1.04.2-1.43.59L10.3 9.45l-7.72 7.72c-.78.78-.78 2.05 0 2.83L4 21.41c.39.39.9.59 1.41.59.51 0 1.02-.2 1.41-.59l7.78-7.78 2.81-2.81c.8-.78.8-2.07 0-2.86zM5.41 20L4 18.59l7.72-7.72 1.47 1.35L5.41 20z\"/>\n",
       "  </svg>\n",
       "      </button>\n",
       "      \n",
       "  <style>\n",
       "    .colab-df-container {\n",
       "      display:flex;\n",
       "      flex-wrap:wrap;\n",
       "      gap: 12px;\n",
       "    }\n",
       "\n",
       "    .colab-df-convert {\n",
       "      background-color: #E8F0FE;\n",
       "      border: none;\n",
       "      border-radius: 50%;\n",
       "      cursor: pointer;\n",
       "      display: none;\n",
       "      fill: #1967D2;\n",
       "      height: 32px;\n",
       "      padding: 0 0 0 0;\n",
       "      width: 32px;\n",
       "    }\n",
       "\n",
       "    .colab-df-convert:hover {\n",
       "      background-color: #E2EBFA;\n",
       "      box-shadow: 0px 1px 2px rgba(60, 64, 67, 0.3), 0px 1px 3px 1px rgba(60, 64, 67, 0.15);\n",
       "      fill: #174EA6;\n",
       "    }\n",
       "\n",
       "    [theme=dark] .colab-df-convert {\n",
       "      background-color: #3B4455;\n",
       "      fill: #D2E3FC;\n",
       "    }\n",
       "\n",
       "    [theme=dark] .colab-df-convert:hover {\n",
       "      background-color: #434B5C;\n",
       "      box-shadow: 0px 1px 3px 1px rgba(0, 0, 0, 0.15);\n",
       "      filter: drop-shadow(0px 1px 2px rgba(0, 0, 0, 0.3));\n",
       "      fill: #FFFFFF;\n",
       "    }\n",
       "  </style>\n",
       "\n",
       "      <script>\n",
       "        const buttonEl =\n",
       "          document.querySelector('#df-53ac9562-eefd-4ce0-a3f9-6b8b76cb7cd2 button.colab-df-convert');\n",
       "        buttonEl.style.display =\n",
       "          google.colab.kernel.accessAllowed ? 'block' : 'none';\n",
       "\n",
       "        async function convertToInteractive(key) {\n",
       "          const element = document.querySelector('#df-53ac9562-eefd-4ce0-a3f9-6b8b76cb7cd2');\n",
       "          const dataTable =\n",
       "            await google.colab.kernel.invokeFunction('convertToInteractive',\n",
       "                                                     [key], {});\n",
       "          if (!dataTable) return;\n",
       "\n",
       "          const docLinkHtml = 'Like what you see? Visit the ' +\n",
       "            '<a target=\"_blank\" href=https://colab.research.google.com/notebooks/data_table.ipynb>data table notebook</a>'\n",
       "            + ' to learn more about interactive tables.';\n",
       "          element.innerHTML = '';\n",
       "          dataTable['output_type'] = 'display_data';\n",
       "          await google.colab.output.renderOutput(dataTable, element);\n",
       "          const docLink = document.createElement('div');\n",
       "          docLink.innerHTML = docLinkHtml;\n",
       "          element.appendChild(docLink);\n",
       "        }\n",
       "      </script>\n",
       "    </div>\n",
       "  </div>\n",
       "  "
      ],
      "text/plain": [
       "                               track_name    artist_name  artist_pop  \\\n",
       "0               STAY (with Justin Bieber)  The Kid LAROI          83   \n",
       "1  Peaches (feat. Daniel Caesar & Giveon)  Justin Bieber          90   \n",
       "2              edamame (feat. Rich Brian)          bbno$          72   \n",
       "3                     Here's Your Perfect   Jamie Miller          65   \n",
       "4                                It's You        Sezairi          57   \n",
       "\n",
       "                        album  track_pop  danceability  energy  loudness  \\\n",
       "0   STAY (with Justin Bieber)         89         0.591   0.764    -5.484   \n",
       "1                     Justice         86         0.677   0.696    -6.181   \n",
       "2  edamame (feat. Rich Brian)         77         0.815   0.848    -4.704   \n",
       "3         Here's Your Perfect         77         0.558   0.454    -5.335   \n",
       "4                    It's You         73         0.630   0.456    -8.285   \n",
       "\n",
       "   mode  key  speechiness  acousticness  instrumentalness  liveness  valence  \\\n",
       "0     1    1       0.0483        0.0383          0.000000    0.1030    0.478   \n",
       "1     1    0       0.1190        0.3210          0.000000    0.4200    0.464   \n",
       "2     0    4       0.1150        0.0230          0.000162    0.0265    0.684   \n",
       "3     1    6       0.0551        0.4990          0.000000    0.1460    0.424   \n",
       "4     1    8       0.0317        0.5450          0.000000    0.1140    0.166   \n",
       "\n",
       "     tempo  time_signature  duration_ms  \n",
       "0  169.928               4       141806  \n",
       "1   90.030               4       198082  \n",
       "2  106.032               4       133707  \n",
       "3  113.120               4       158594  \n",
       "4  137.915               3       251440  "
      ]
     },
     "execution_count": 4,
     "metadata": {},
     "output_type": "execute_result"
    }
   ],
   "source": [
    "songs = pd.read_csv('%s/Tiktok.csv'%ruta) \n",
    "songs.head()"
   ]
  },
  {
   "cell_type": "code",
   "execution_count": 5,
   "metadata": {
    "executionInfo": {
     "elapsed": 36,
     "status": "ok",
     "timestamp": 1669612864317,
     "user": {
      "displayName": "MATÍAS ALEJANDRO MUÑOZ MERINO",
      "userId": "03351317620509931932"
     },
     "user_tz": 180
    },
    "id": "Xv9jQmZu_MYa"
   },
   "outputs": [],
   "source": [
    "#profile = ProfileReport(songs, title='Tiktok Data', explorative=True)\n",
    "#profile.to_notebook_iframe()"
   ]
  },
  {
   "cell_type": "markdown",
   "metadata": {
    "id": "b57674DW8A8W"
   },
   "source": [
    "## Elimación de columnas\n"
   ]
  },
  {
   "cell_type": "markdown",
   "metadata": {
    "id": "NC274R3u8F_o"
   },
   "source": [
    "Se eliminarán las siguientes columnas:\n",
    "\n",
    "*   track_name: Poca frecuencia en el dataset\n",
    "*   artist_name: Poca frecuencia en el dataset\n",
    "*   album: Poca frecuencia en el dataset"
   ]
  },
  {
   "cell_type": "code",
   "execution_count": 6,
   "metadata": {
    "colab": {
     "base_uri": "https://localhost:8080/",
     "height": 206
    },
    "executionInfo": {
     "elapsed": 36,
     "status": "ok",
     "timestamp": 1669612864318,
     "user": {
      "displayName": "MATÍAS ALEJANDRO MUÑOZ MERINO",
      "userId": "03351317620509931932"
     },
     "user_tz": 180
    },
    "id": "9ApX7nYN76OR",
    "outputId": "4646f617-e726-4651-9324-0abf0175b771"
   },
   "outputs": [
    {
     "data": {
      "text/html": [
       "\n",
       "  <div id=\"df-10979515-7f23-4b27-a425-e603f985438b\">\n",
       "    <div class=\"colab-df-container\">\n",
       "      <div>\n",
       "<style scoped>\n",
       "    .dataframe tbody tr th:only-of-type {\n",
       "        vertical-align: middle;\n",
       "    }\n",
       "\n",
       "    .dataframe tbody tr th {\n",
       "        vertical-align: top;\n",
       "    }\n",
       "\n",
       "    .dataframe thead th {\n",
       "        text-align: right;\n",
       "    }\n",
       "</style>\n",
       "<table border=\"1\" class=\"dataframe\">\n",
       "  <thead>\n",
       "    <tr style=\"text-align: right;\">\n",
       "      <th></th>\n",
       "      <th>artist_pop</th>\n",
       "      <th>track_pop</th>\n",
       "      <th>danceability</th>\n",
       "      <th>energy</th>\n",
       "      <th>loudness</th>\n",
       "      <th>mode</th>\n",
       "      <th>key</th>\n",
       "      <th>speechiness</th>\n",
       "      <th>acousticness</th>\n",
       "      <th>instrumentalness</th>\n",
       "      <th>liveness</th>\n",
       "      <th>valence</th>\n",
       "      <th>tempo</th>\n",
       "      <th>time_signature</th>\n",
       "      <th>duration_ms</th>\n",
       "    </tr>\n",
       "  </thead>\n",
       "  <tbody>\n",
       "    <tr>\n",
       "      <th>0</th>\n",
       "      <td>83</td>\n",
       "      <td>89</td>\n",
       "      <td>0.591</td>\n",
       "      <td>0.764</td>\n",
       "      <td>-5.484</td>\n",
       "      <td>1</td>\n",
       "      <td>1</td>\n",
       "      <td>0.0483</td>\n",
       "      <td>0.0383</td>\n",
       "      <td>0.000000</td>\n",
       "      <td>0.1030</td>\n",
       "      <td>0.478</td>\n",
       "      <td>169.928</td>\n",
       "      <td>4</td>\n",
       "      <td>141806</td>\n",
       "    </tr>\n",
       "    <tr>\n",
       "      <th>1</th>\n",
       "      <td>90</td>\n",
       "      <td>86</td>\n",
       "      <td>0.677</td>\n",
       "      <td>0.696</td>\n",
       "      <td>-6.181</td>\n",
       "      <td>1</td>\n",
       "      <td>0</td>\n",
       "      <td>0.1190</td>\n",
       "      <td>0.3210</td>\n",
       "      <td>0.000000</td>\n",
       "      <td>0.4200</td>\n",
       "      <td>0.464</td>\n",
       "      <td>90.030</td>\n",
       "      <td>4</td>\n",
       "      <td>198082</td>\n",
       "    </tr>\n",
       "    <tr>\n",
       "      <th>2</th>\n",
       "      <td>72</td>\n",
       "      <td>77</td>\n",
       "      <td>0.815</td>\n",
       "      <td>0.848</td>\n",
       "      <td>-4.704</td>\n",
       "      <td>0</td>\n",
       "      <td>4</td>\n",
       "      <td>0.1150</td>\n",
       "      <td>0.0230</td>\n",
       "      <td>0.000162</td>\n",
       "      <td>0.0265</td>\n",
       "      <td>0.684</td>\n",
       "      <td>106.032</td>\n",
       "      <td>4</td>\n",
       "      <td>133707</td>\n",
       "    </tr>\n",
       "    <tr>\n",
       "      <th>3</th>\n",
       "      <td>65</td>\n",
       "      <td>77</td>\n",
       "      <td>0.558</td>\n",
       "      <td>0.454</td>\n",
       "      <td>-5.335</td>\n",
       "      <td>1</td>\n",
       "      <td>6</td>\n",
       "      <td>0.0551</td>\n",
       "      <td>0.4990</td>\n",
       "      <td>0.000000</td>\n",
       "      <td>0.1460</td>\n",
       "      <td>0.424</td>\n",
       "      <td>113.120</td>\n",
       "      <td>4</td>\n",
       "      <td>158594</td>\n",
       "    </tr>\n",
       "    <tr>\n",
       "      <th>4</th>\n",
       "      <td>57</td>\n",
       "      <td>73</td>\n",
       "      <td>0.630</td>\n",
       "      <td>0.456</td>\n",
       "      <td>-8.285</td>\n",
       "      <td>1</td>\n",
       "      <td>8</td>\n",
       "      <td>0.0317</td>\n",
       "      <td>0.5450</td>\n",
       "      <td>0.000000</td>\n",
       "      <td>0.1140</td>\n",
       "      <td>0.166</td>\n",
       "      <td>137.915</td>\n",
       "      <td>3</td>\n",
       "      <td>251440</td>\n",
       "    </tr>\n",
       "  </tbody>\n",
       "</table>\n",
       "</div>\n",
       "      <button class=\"colab-df-convert\" onclick=\"convertToInteractive('df-10979515-7f23-4b27-a425-e603f985438b')\"\n",
       "              title=\"Convert this dataframe to an interactive table.\"\n",
       "              style=\"display:none;\">\n",
       "        \n",
       "  <svg xmlns=\"http://www.w3.org/2000/svg\" height=\"24px\"viewBox=\"0 0 24 24\"\n",
       "       width=\"24px\">\n",
       "    <path d=\"M0 0h24v24H0V0z\" fill=\"none\"/>\n",
       "    <path d=\"M18.56 5.44l.94 2.06.94-2.06 2.06-.94-2.06-.94-.94-2.06-.94 2.06-2.06.94zm-11 1L8.5 8.5l.94-2.06 2.06-.94-2.06-.94L8.5 2.5l-.94 2.06-2.06.94zm10 10l.94 2.06.94-2.06 2.06-.94-2.06-.94-.94-2.06-.94 2.06-2.06.94z\"/><path d=\"M17.41 7.96l-1.37-1.37c-.4-.4-.92-.59-1.43-.59-.52 0-1.04.2-1.43.59L10.3 9.45l-7.72 7.72c-.78.78-.78 2.05 0 2.83L4 21.41c.39.39.9.59 1.41.59.51 0 1.02-.2 1.41-.59l7.78-7.78 2.81-2.81c.8-.78.8-2.07 0-2.86zM5.41 20L4 18.59l7.72-7.72 1.47 1.35L5.41 20z\"/>\n",
       "  </svg>\n",
       "      </button>\n",
       "      \n",
       "  <style>\n",
       "    .colab-df-container {\n",
       "      display:flex;\n",
       "      flex-wrap:wrap;\n",
       "      gap: 12px;\n",
       "    }\n",
       "\n",
       "    .colab-df-convert {\n",
       "      background-color: #E8F0FE;\n",
       "      border: none;\n",
       "      border-radius: 50%;\n",
       "      cursor: pointer;\n",
       "      display: none;\n",
       "      fill: #1967D2;\n",
       "      height: 32px;\n",
       "      padding: 0 0 0 0;\n",
       "      width: 32px;\n",
       "    }\n",
       "\n",
       "    .colab-df-convert:hover {\n",
       "      background-color: #E2EBFA;\n",
       "      box-shadow: 0px 1px 2px rgba(60, 64, 67, 0.3), 0px 1px 3px 1px rgba(60, 64, 67, 0.15);\n",
       "      fill: #174EA6;\n",
       "    }\n",
       "\n",
       "    [theme=dark] .colab-df-convert {\n",
       "      background-color: #3B4455;\n",
       "      fill: #D2E3FC;\n",
       "    }\n",
       "\n",
       "    [theme=dark] .colab-df-convert:hover {\n",
       "      background-color: #434B5C;\n",
       "      box-shadow: 0px 1px 3px 1px rgba(0, 0, 0, 0.15);\n",
       "      filter: drop-shadow(0px 1px 2px rgba(0, 0, 0, 0.3));\n",
       "      fill: #FFFFFF;\n",
       "    }\n",
       "  </style>\n",
       "\n",
       "      <script>\n",
       "        const buttonEl =\n",
       "          document.querySelector('#df-10979515-7f23-4b27-a425-e603f985438b button.colab-df-convert');\n",
       "        buttonEl.style.display =\n",
       "          google.colab.kernel.accessAllowed ? 'block' : 'none';\n",
       "\n",
       "        async function convertToInteractive(key) {\n",
       "          const element = document.querySelector('#df-10979515-7f23-4b27-a425-e603f985438b');\n",
       "          const dataTable =\n",
       "            await google.colab.kernel.invokeFunction('convertToInteractive',\n",
       "                                                     [key], {});\n",
       "          if (!dataTable) return;\n",
       "\n",
       "          const docLinkHtml = 'Like what you see? Visit the ' +\n",
       "            '<a target=\"_blank\" href=https://colab.research.google.com/notebooks/data_table.ipynb>data table notebook</a>'\n",
       "            + ' to learn more about interactive tables.';\n",
       "          element.innerHTML = '';\n",
       "          dataTable['output_type'] = 'display_data';\n",
       "          await google.colab.output.renderOutput(dataTable, element);\n",
       "          const docLink = document.createElement('div');\n",
       "          docLink.innerHTML = docLinkHtml;\n",
       "          element.appendChild(docLink);\n",
       "        }\n",
       "      </script>\n",
       "    </div>\n",
       "  </div>\n",
       "  "
      ],
      "text/plain": [
       "   artist_pop  track_pop  danceability  energy  loudness  mode  key  \\\n",
       "0          83         89         0.591   0.764    -5.484     1    1   \n",
       "1          90         86         0.677   0.696    -6.181     1    0   \n",
       "2          72         77         0.815   0.848    -4.704     0    4   \n",
       "3          65         77         0.558   0.454    -5.335     1    6   \n",
       "4          57         73         0.630   0.456    -8.285     1    8   \n",
       "\n",
       "   speechiness  acousticness  instrumentalness  liveness  valence    tempo  \\\n",
       "0       0.0483        0.0383          0.000000    0.1030    0.478  169.928   \n",
       "1       0.1190        0.3210          0.000000    0.4200    0.464   90.030   \n",
       "2       0.1150        0.0230          0.000162    0.0265    0.684  106.032   \n",
       "3       0.0551        0.4990          0.000000    0.1460    0.424  113.120   \n",
       "4       0.0317        0.5450          0.000000    0.1140    0.166  137.915   \n",
       "\n",
       "   time_signature  duration_ms  \n",
       "0               4       141806  \n",
       "1               4       198082  \n",
       "2               4       133707  \n",
       "3               4       158594  \n",
       "4               3       251440  "
      ]
     },
     "execution_count": 6,
     "metadata": {},
     "output_type": "execute_result"
    }
   ],
   "source": [
    "songs = songs.drop(['track_name','artist_name','album'], axis=1) # Eliminación de columnas que no se utilizaran\n",
    "songs.head()"
   ]
  },
  {
   "cell_type": "markdown",
   "metadata": {
    "id": "TlNezB8DA9JC"
   },
   "source": [
    "## Transformaciones de datos"
   ]
  },
  {
   "cell_type": "markdown",
   "metadata": {
    "id": "2uRbb2NxBBLK"
   },
   "source": [
    "### Transformación tempo\n",
    "El tempo se agrupará en rangos y se le asignará una"
   ]
  },
  {
   "cell_type": "code",
   "execution_count": 7,
   "metadata": {
    "colab": {
     "base_uri": "https://localhost:8080/",
     "height": 206
    },
    "executionInfo": {
     "elapsed": 440,
     "status": "ok",
     "timestamp": 1669612864723,
     "user": {
      "displayName": "MATÍAS ALEJANDRO MUÑOZ MERINO",
      "userId": "03351317620509931932"
     },
     "user_tz": 180
    },
    "id": "nwcO0oBRBAGs",
    "outputId": "37e4142b-e836-401a-c12a-1d611e061324"
   },
   "outputs": [
    {
     "data": {
      "text/html": [
       "\n",
       "  <div id=\"df-af9a2650-f831-4a30-926a-2f3ad03e0086\">\n",
       "    <div class=\"colab-df-container\">\n",
       "      <div>\n",
       "<style scoped>\n",
       "    .dataframe tbody tr th:only-of-type {\n",
       "        vertical-align: middle;\n",
       "    }\n",
       "\n",
       "    .dataframe tbody tr th {\n",
       "        vertical-align: top;\n",
       "    }\n",
       "\n",
       "    .dataframe thead th {\n",
       "        text-align: right;\n",
       "    }\n",
       "</style>\n",
       "<table border=\"1\" class=\"dataframe\">\n",
       "  <thead>\n",
       "    <tr style=\"text-align: right;\">\n",
       "      <th></th>\n",
       "      <th>artist_pop</th>\n",
       "      <th>track_pop</th>\n",
       "      <th>danceability</th>\n",
       "      <th>energy</th>\n",
       "      <th>loudness</th>\n",
       "      <th>mode</th>\n",
       "      <th>key</th>\n",
       "      <th>speechiness</th>\n",
       "      <th>acousticness</th>\n",
       "      <th>instrumentalness</th>\n",
       "      <th>liveness</th>\n",
       "      <th>valence</th>\n",
       "      <th>tempo</th>\n",
       "      <th>time_signature</th>\n",
       "      <th>duration_ms</th>\n",
       "    </tr>\n",
       "  </thead>\n",
       "  <tbody>\n",
       "    <tr>\n",
       "      <th>0</th>\n",
       "      <td>83</td>\n",
       "      <td>89</td>\n",
       "      <td>0.591</td>\n",
       "      <td>0.764</td>\n",
       "      <td>-5.484</td>\n",
       "      <td>1</td>\n",
       "      <td>1</td>\n",
       "      <td>0.0483</td>\n",
       "      <td>0.0383</td>\n",
       "      <td>0.000000</td>\n",
       "      <td>0.1030</td>\n",
       "      <td>0.478</td>\n",
       "      <td>6</td>\n",
       "      <td>4</td>\n",
       "      <td>141806</td>\n",
       "    </tr>\n",
       "    <tr>\n",
       "      <th>1</th>\n",
       "      <td>90</td>\n",
       "      <td>86</td>\n",
       "      <td>0.677</td>\n",
       "      <td>0.696</td>\n",
       "      <td>-6.181</td>\n",
       "      <td>1</td>\n",
       "      <td>0</td>\n",
       "      <td>0.1190</td>\n",
       "      <td>0.3210</td>\n",
       "      <td>0.000000</td>\n",
       "      <td>0.4200</td>\n",
       "      <td>0.464</td>\n",
       "      <td>2</td>\n",
       "      <td>4</td>\n",
       "      <td>198082</td>\n",
       "    </tr>\n",
       "    <tr>\n",
       "      <th>2</th>\n",
       "      <td>72</td>\n",
       "      <td>77</td>\n",
       "      <td>0.815</td>\n",
       "      <td>0.848</td>\n",
       "      <td>-4.704</td>\n",
       "      <td>0</td>\n",
       "      <td>4</td>\n",
       "      <td>0.1150</td>\n",
       "      <td>0.0230</td>\n",
       "      <td>0.000162</td>\n",
       "      <td>0.0265</td>\n",
       "      <td>0.684</td>\n",
       "      <td>2</td>\n",
       "      <td>4</td>\n",
       "      <td>133707</td>\n",
       "    </tr>\n",
       "    <tr>\n",
       "      <th>3</th>\n",
       "      <td>65</td>\n",
       "      <td>77</td>\n",
       "      <td>0.558</td>\n",
       "      <td>0.454</td>\n",
       "      <td>-5.335</td>\n",
       "      <td>1</td>\n",
       "      <td>6</td>\n",
       "      <td>0.0551</td>\n",
       "      <td>0.4990</td>\n",
       "      <td>0.000000</td>\n",
       "      <td>0.1460</td>\n",
       "      <td>0.424</td>\n",
       "      <td>3</td>\n",
       "      <td>4</td>\n",
       "      <td>158594</td>\n",
       "    </tr>\n",
       "    <tr>\n",
       "      <th>4</th>\n",
       "      <td>57</td>\n",
       "      <td>73</td>\n",
       "      <td>0.630</td>\n",
       "      <td>0.456</td>\n",
       "      <td>-8.285</td>\n",
       "      <td>1</td>\n",
       "      <td>8</td>\n",
       "      <td>0.0317</td>\n",
       "      <td>0.5450</td>\n",
       "      <td>0.000000</td>\n",
       "      <td>0.1140</td>\n",
       "      <td>0.166</td>\n",
       "      <td>4</td>\n",
       "      <td>3</td>\n",
       "      <td>251440</td>\n",
       "    </tr>\n",
       "  </tbody>\n",
       "</table>\n",
       "</div>\n",
       "      <button class=\"colab-df-convert\" onclick=\"convertToInteractive('df-af9a2650-f831-4a30-926a-2f3ad03e0086')\"\n",
       "              title=\"Convert this dataframe to an interactive table.\"\n",
       "              style=\"display:none;\">\n",
       "        \n",
       "  <svg xmlns=\"http://www.w3.org/2000/svg\" height=\"24px\"viewBox=\"0 0 24 24\"\n",
       "       width=\"24px\">\n",
       "    <path d=\"M0 0h24v24H0V0z\" fill=\"none\"/>\n",
       "    <path d=\"M18.56 5.44l.94 2.06.94-2.06 2.06-.94-2.06-.94-.94-2.06-.94 2.06-2.06.94zm-11 1L8.5 8.5l.94-2.06 2.06-.94-2.06-.94L8.5 2.5l-.94 2.06-2.06.94zm10 10l.94 2.06.94-2.06 2.06-.94-2.06-.94-.94-2.06-.94 2.06-2.06.94z\"/><path d=\"M17.41 7.96l-1.37-1.37c-.4-.4-.92-.59-1.43-.59-.52 0-1.04.2-1.43.59L10.3 9.45l-7.72 7.72c-.78.78-.78 2.05 0 2.83L4 21.41c.39.39.9.59 1.41.59.51 0 1.02-.2 1.41-.59l7.78-7.78 2.81-2.81c.8-.78.8-2.07 0-2.86zM5.41 20L4 18.59l7.72-7.72 1.47 1.35L5.41 20z\"/>\n",
       "  </svg>\n",
       "      </button>\n",
       "      \n",
       "  <style>\n",
       "    .colab-df-container {\n",
       "      display:flex;\n",
       "      flex-wrap:wrap;\n",
       "      gap: 12px;\n",
       "    }\n",
       "\n",
       "    .colab-df-convert {\n",
       "      background-color: #E8F0FE;\n",
       "      border: none;\n",
       "      border-radius: 50%;\n",
       "      cursor: pointer;\n",
       "      display: none;\n",
       "      fill: #1967D2;\n",
       "      height: 32px;\n",
       "      padding: 0 0 0 0;\n",
       "      width: 32px;\n",
       "    }\n",
       "\n",
       "    .colab-df-convert:hover {\n",
       "      background-color: #E2EBFA;\n",
       "      box-shadow: 0px 1px 2px rgba(60, 64, 67, 0.3), 0px 1px 3px 1px rgba(60, 64, 67, 0.15);\n",
       "      fill: #174EA6;\n",
       "    }\n",
       "\n",
       "    [theme=dark] .colab-df-convert {\n",
       "      background-color: #3B4455;\n",
       "      fill: #D2E3FC;\n",
       "    }\n",
       "\n",
       "    [theme=dark] .colab-df-convert:hover {\n",
       "      background-color: #434B5C;\n",
       "      box-shadow: 0px 1px 3px 1px rgba(0, 0, 0, 0.15);\n",
       "      filter: drop-shadow(0px 1px 2px rgba(0, 0, 0, 0.3));\n",
       "      fill: #FFFFFF;\n",
       "    }\n",
       "  </style>\n",
       "\n",
       "      <script>\n",
       "        const buttonEl =\n",
       "          document.querySelector('#df-af9a2650-f831-4a30-926a-2f3ad03e0086 button.colab-df-convert');\n",
       "        buttonEl.style.display =\n",
       "          google.colab.kernel.accessAllowed ? 'block' : 'none';\n",
       "\n",
       "        async function convertToInteractive(key) {\n",
       "          const element = document.querySelector('#df-af9a2650-f831-4a30-926a-2f3ad03e0086');\n",
       "          const dataTable =\n",
       "            await google.colab.kernel.invokeFunction('convertToInteractive',\n",
       "                                                     [key], {});\n",
       "          if (!dataTable) return;\n",
       "\n",
       "          const docLinkHtml = 'Like what you see? Visit the ' +\n",
       "            '<a target=\"_blank\" href=https://colab.research.google.com/notebooks/data_table.ipynb>data table notebook</a>'\n",
       "            + ' to learn more about interactive tables.';\n",
       "          element.innerHTML = '';\n",
       "          dataTable['output_type'] = 'display_data';\n",
       "          await google.colab.output.renderOutput(dataTable, element);\n",
       "          const docLink = document.createElement('div');\n",
       "          docLink.innerHTML = docLinkHtml;\n",
       "          element.appendChild(docLink);\n",
       "        }\n",
       "      </script>\n",
       "    </div>\n",
       "  </div>\n",
       "  "
      ],
      "text/plain": [
       "   artist_pop  track_pop  danceability  energy  loudness  mode  key  \\\n",
       "0          83         89         0.591   0.764    -5.484     1    1   \n",
       "1          90         86         0.677   0.696    -6.181     1    0   \n",
       "2          72         77         0.815   0.848    -4.704     0    4   \n",
       "3          65         77         0.558   0.454    -5.335     1    6   \n",
       "4          57         73         0.630   0.456    -8.285     1    8   \n",
       "\n",
       "   speechiness  acousticness  instrumentalness  liveness  valence tempo  \\\n",
       "0       0.0483        0.0383          0.000000    0.1030    0.478     6   \n",
       "1       0.1190        0.3210          0.000000    0.4200    0.464     2   \n",
       "2       0.1150        0.0230          0.000162    0.0265    0.684     2   \n",
       "3       0.0551        0.4990          0.000000    0.1460    0.424     3   \n",
       "4       0.0317        0.5450          0.000000    0.1140    0.166     4   \n",
       "\n",
       "   time_signature  duration_ms  \n",
       "0               4       141806  \n",
       "1               4       198082  \n",
       "2               4       133707  \n",
       "3               4       158594  \n",
       "4               3       251440  "
      ]
     },
     "execution_count": 7,
     "metadata": {},
     "output_type": "execute_result"
    }
   ],
   "source": [
    "bins = [60 ,76, 108, 120, 140, 168, 200, 209]\n",
    "\n",
    "labels = [1, 2, 3, 4, 5, 6, 7]\n",
    "songs['tempo'] = pd.cut(songs['tempo'], bins=bins, labels=labels, right=False)\n",
    "songs.head()"
   ]
  },
  {
   "cell_type": "markdown",
   "metadata": {
    "id": "5p8PTupCNo7O"
   },
   "source": [
    "### Transformación popularidad\n",
    "Se transformará la popularidad en rangos para poder realizar un mejor análisis, se le asignará el nuevo valor según los siguientes rangos:\n",
    "\n",
    "\n",
    "*   demasiado_popular: 81-100 -> 1\n",
    "*   muy_popular: 61-80 -> 2\n",
    "*   popular: 41-60 -> 3\n",
    "*   poco_popular: 21-40 -> 4\n",
    "*   impopular: 0-20 -> 5"
   ]
  },
  {
   "cell_type": "code",
   "execution_count": 8,
   "metadata": {
    "colab": {
     "base_uri": "https://localhost:8080/",
     "height": 250
    },
    "executionInfo": {
     "elapsed": 17,
     "status": "ok",
     "timestamp": 1669612864727,
     "user": {
      "displayName": "MATÍAS ALEJANDRO MUÑOZ MERINO",
      "userId": "03351317620509931932"
     },
     "user_tz": 180
    },
    "id": "Th4wTUtfNy_r",
    "outputId": "5c36e52d-fbd8-40ce-edb5-999b0ea0e751"
   },
   "outputs": [
    {
     "data": {
      "text/html": [
       "\n",
       "  <div id=\"df-759d876c-a927-4729-a7b8-6da84f04b004\">\n",
       "    <div class=\"colab-df-container\">\n",
       "      <div>\n",
       "<style scoped>\n",
       "    .dataframe tbody tr th:only-of-type {\n",
       "        vertical-align: middle;\n",
       "    }\n",
       "\n",
       "    .dataframe tbody tr th {\n",
       "        vertical-align: top;\n",
       "    }\n",
       "\n",
       "    .dataframe thead th {\n",
       "        text-align: right;\n",
       "    }\n",
       "</style>\n",
       "<table border=\"1\" class=\"dataframe\">\n",
       "  <thead>\n",
       "    <tr style=\"text-align: right;\">\n",
       "      <th></th>\n",
       "      <th>artist_pop</th>\n",
       "      <th>track_pop</th>\n",
       "      <th>danceability</th>\n",
       "      <th>energy</th>\n",
       "      <th>loudness</th>\n",
       "      <th>mode</th>\n",
       "      <th>key</th>\n",
       "      <th>speechiness</th>\n",
       "      <th>acousticness</th>\n",
       "      <th>instrumentalness</th>\n",
       "      <th>liveness</th>\n",
       "      <th>valence</th>\n",
       "      <th>tempo</th>\n",
       "      <th>time_signature</th>\n",
       "      <th>duration_ms</th>\n",
       "      <th>popularidad</th>\n",
       "    </tr>\n",
       "  </thead>\n",
       "  <tbody>\n",
       "    <tr>\n",
       "      <th>0</th>\n",
       "      <td>83</td>\n",
       "      <td>89</td>\n",
       "      <td>0.591</td>\n",
       "      <td>0.764</td>\n",
       "      <td>-5.484</td>\n",
       "      <td>1</td>\n",
       "      <td>1</td>\n",
       "      <td>0.0483</td>\n",
       "      <td>0.0383</td>\n",
       "      <td>0.000000</td>\n",
       "      <td>0.1030</td>\n",
       "      <td>0.478</td>\n",
       "      <td>6</td>\n",
       "      <td>4</td>\n",
       "      <td>141806</td>\n",
       "      <td>5</td>\n",
       "    </tr>\n",
       "    <tr>\n",
       "      <th>1</th>\n",
       "      <td>90</td>\n",
       "      <td>86</td>\n",
       "      <td>0.677</td>\n",
       "      <td>0.696</td>\n",
       "      <td>-6.181</td>\n",
       "      <td>1</td>\n",
       "      <td>0</td>\n",
       "      <td>0.1190</td>\n",
       "      <td>0.3210</td>\n",
       "      <td>0.000000</td>\n",
       "      <td>0.4200</td>\n",
       "      <td>0.464</td>\n",
       "      <td>2</td>\n",
       "      <td>4</td>\n",
       "      <td>198082</td>\n",
       "      <td>5</td>\n",
       "    </tr>\n",
       "    <tr>\n",
       "      <th>2</th>\n",
       "      <td>72</td>\n",
       "      <td>77</td>\n",
       "      <td>0.815</td>\n",
       "      <td>0.848</td>\n",
       "      <td>-4.704</td>\n",
       "      <td>0</td>\n",
       "      <td>4</td>\n",
       "      <td>0.1150</td>\n",
       "      <td>0.0230</td>\n",
       "      <td>0.000162</td>\n",
       "      <td>0.0265</td>\n",
       "      <td>0.684</td>\n",
       "      <td>2</td>\n",
       "      <td>4</td>\n",
       "      <td>133707</td>\n",
       "      <td>4</td>\n",
       "    </tr>\n",
       "    <tr>\n",
       "      <th>3</th>\n",
       "      <td>65</td>\n",
       "      <td>77</td>\n",
       "      <td>0.558</td>\n",
       "      <td>0.454</td>\n",
       "      <td>-5.335</td>\n",
       "      <td>1</td>\n",
       "      <td>6</td>\n",
       "      <td>0.0551</td>\n",
       "      <td>0.4990</td>\n",
       "      <td>0.000000</td>\n",
       "      <td>0.1460</td>\n",
       "      <td>0.424</td>\n",
       "      <td>3</td>\n",
       "      <td>4</td>\n",
       "      <td>158594</td>\n",
       "      <td>4</td>\n",
       "    </tr>\n",
       "    <tr>\n",
       "      <th>4</th>\n",
       "      <td>57</td>\n",
       "      <td>73</td>\n",
       "      <td>0.630</td>\n",
       "      <td>0.456</td>\n",
       "      <td>-8.285</td>\n",
       "      <td>1</td>\n",
       "      <td>8</td>\n",
       "      <td>0.0317</td>\n",
       "      <td>0.5450</td>\n",
       "      <td>0.000000</td>\n",
       "      <td>0.1140</td>\n",
       "      <td>0.166</td>\n",
       "      <td>4</td>\n",
       "      <td>3</td>\n",
       "      <td>251440</td>\n",
       "      <td>4</td>\n",
       "    </tr>\n",
       "  </tbody>\n",
       "</table>\n",
       "</div>\n",
       "      <button class=\"colab-df-convert\" onclick=\"convertToInteractive('df-759d876c-a927-4729-a7b8-6da84f04b004')\"\n",
       "              title=\"Convert this dataframe to an interactive table.\"\n",
       "              style=\"display:none;\">\n",
       "        \n",
       "  <svg xmlns=\"http://www.w3.org/2000/svg\" height=\"24px\"viewBox=\"0 0 24 24\"\n",
       "       width=\"24px\">\n",
       "    <path d=\"M0 0h24v24H0V0z\" fill=\"none\"/>\n",
       "    <path d=\"M18.56 5.44l.94 2.06.94-2.06 2.06-.94-2.06-.94-.94-2.06-.94 2.06-2.06.94zm-11 1L8.5 8.5l.94-2.06 2.06-.94-2.06-.94L8.5 2.5l-.94 2.06-2.06.94zm10 10l.94 2.06.94-2.06 2.06-.94-2.06-.94-.94-2.06-.94 2.06-2.06.94z\"/><path d=\"M17.41 7.96l-1.37-1.37c-.4-.4-.92-.59-1.43-.59-.52 0-1.04.2-1.43.59L10.3 9.45l-7.72 7.72c-.78.78-.78 2.05 0 2.83L4 21.41c.39.39.9.59 1.41.59.51 0 1.02-.2 1.41-.59l7.78-7.78 2.81-2.81c.8-.78.8-2.07 0-2.86zM5.41 20L4 18.59l7.72-7.72 1.47 1.35L5.41 20z\"/>\n",
       "  </svg>\n",
       "      </button>\n",
       "      \n",
       "  <style>\n",
       "    .colab-df-container {\n",
       "      display:flex;\n",
       "      flex-wrap:wrap;\n",
       "      gap: 12px;\n",
       "    }\n",
       "\n",
       "    .colab-df-convert {\n",
       "      background-color: #E8F0FE;\n",
       "      border: none;\n",
       "      border-radius: 50%;\n",
       "      cursor: pointer;\n",
       "      display: none;\n",
       "      fill: #1967D2;\n",
       "      height: 32px;\n",
       "      padding: 0 0 0 0;\n",
       "      width: 32px;\n",
       "    }\n",
       "\n",
       "    .colab-df-convert:hover {\n",
       "      background-color: #E2EBFA;\n",
       "      box-shadow: 0px 1px 2px rgba(60, 64, 67, 0.3), 0px 1px 3px 1px rgba(60, 64, 67, 0.15);\n",
       "      fill: #174EA6;\n",
       "    }\n",
       "\n",
       "    [theme=dark] .colab-df-convert {\n",
       "      background-color: #3B4455;\n",
       "      fill: #D2E3FC;\n",
       "    }\n",
       "\n",
       "    [theme=dark] .colab-df-convert:hover {\n",
       "      background-color: #434B5C;\n",
       "      box-shadow: 0px 1px 3px 1px rgba(0, 0, 0, 0.15);\n",
       "      filter: drop-shadow(0px 1px 2px rgba(0, 0, 0, 0.3));\n",
       "      fill: #FFFFFF;\n",
       "    }\n",
       "  </style>\n",
       "\n",
       "      <script>\n",
       "        const buttonEl =\n",
       "          document.querySelector('#df-759d876c-a927-4729-a7b8-6da84f04b004 button.colab-df-convert');\n",
       "        buttonEl.style.display =\n",
       "          google.colab.kernel.accessAllowed ? 'block' : 'none';\n",
       "\n",
       "        async function convertToInteractive(key) {\n",
       "          const element = document.querySelector('#df-759d876c-a927-4729-a7b8-6da84f04b004');\n",
       "          const dataTable =\n",
       "            await google.colab.kernel.invokeFunction('convertToInteractive',\n",
       "                                                     [key], {});\n",
       "          if (!dataTable) return;\n",
       "\n",
       "          const docLinkHtml = 'Like what you see? Visit the ' +\n",
       "            '<a target=\"_blank\" href=https://colab.research.google.com/notebooks/data_table.ipynb>data table notebook</a>'\n",
       "            + ' to learn more about interactive tables.';\n",
       "          element.innerHTML = '';\n",
       "          dataTable['output_type'] = 'display_data';\n",
       "          await google.colab.output.renderOutput(dataTable, element);\n",
       "          const docLink = document.createElement('div');\n",
       "          docLink.innerHTML = docLinkHtml;\n",
       "          element.appendChild(docLink);\n",
       "        }\n",
       "      </script>\n",
       "    </div>\n",
       "  </div>\n",
       "  "
      ],
      "text/plain": [
       "   artist_pop  track_pop  danceability  energy  loudness  mode  key  \\\n",
       "0          83         89         0.591   0.764    -5.484     1    1   \n",
       "1          90         86         0.677   0.696    -6.181     1    0   \n",
       "2          72         77         0.815   0.848    -4.704     0    4   \n",
       "3          65         77         0.558   0.454    -5.335     1    6   \n",
       "4          57         73         0.630   0.456    -8.285     1    8   \n",
       "\n",
       "   speechiness  acousticness  instrumentalness  liveness  valence tempo  \\\n",
       "0       0.0483        0.0383          0.000000    0.1030    0.478     6   \n",
       "1       0.1190        0.3210          0.000000    0.4200    0.464     2   \n",
       "2       0.1150        0.0230          0.000162    0.0265    0.684     2   \n",
       "3       0.0551        0.4990          0.000000    0.1460    0.424     3   \n",
       "4       0.0317        0.5450          0.000000    0.1140    0.166     4   \n",
       "\n",
       "   time_signature  duration_ms popularidad  \n",
       "0               4       141806           5  \n",
       "1               4       198082           5  \n",
       "2               4       133707           4  \n",
       "3               4       158594           4  \n",
       "4               3       251440           4  "
      ]
     },
     "execution_count": 8,
     "metadata": {},
     "output_type": "execute_result"
    }
   ],
   "source": [
    "bins = [0 , 20, 40, 60, 80, 100]\n",
    "\n",
    "labels = [1, 2, 3, 4, 5]\n",
    "songs['popularidad'] = pd.cut(songs['track_pop'], bins=bins, labels=labels, right=False)\n",
    "songs.head()"
   ]
  },
  {
   "cell_type": "code",
   "execution_count": 9,
   "metadata": {
    "executionInfo": {
     "elapsed": 14,
     "status": "ok",
     "timestamp": 1669612864728,
     "user": {
      "displayName": "MATÍAS ALEJANDRO MUÑOZ MERINO",
      "userId": "03351317620509931932"
     },
     "user_tz": 180
    },
    "id": "Rgpyn6DoDbJg"
   },
   "outputs": [],
   "source": [
    "profile = ProfileReport(songs)\n",
    "#profile.to_file('/content/drive/Shareddrives/Minería de Datos/Tareas/Tarea 3/songs_now.html')"
   ]
  },
  {
   "cell_type": "code",
   "execution_count": 10,
   "metadata": {
    "executionInfo": {
     "elapsed": 15,
     "status": "ok",
     "timestamp": 1669612864729,
     "user": {
      "displayName": "MATÍAS ALEJANDRO MUÑOZ MERINO",
      "userId": "03351317620509931932"
     },
     "user_tz": 180
    },
    "id": "QJZd485yDlj4"
   },
   "outputs": [],
   "source": [
    "#profile"
   ]
  },
  {
   "cell_type": "markdown",
   "metadata": {
    "id": "ikAlJ2KWNelZ"
   },
   "source": [
    "## Cluster"
   ]
  },
  {
   "cell_type": "markdown",
   "metadata": {
    "id": "IMhaTr2uf-B8"
   },
   "source": [
    "### Determinación de número de clusters"
   ]
  },
  {
   "cell_type": "code",
   "execution_count": 11,
   "metadata": {
    "ExecuteTime": {
     "end_time": "2020-10-23T20:04:15.160090Z",
     "start_time": "2020-10-23T20:04:13.929213Z"
    },
    "colab": {
     "base_uri": "https://localhost:8080/",
     "height": 295
    },
    "executionInfo": {
     "elapsed": 3687,
     "status": "ok",
     "timestamp": 1669612868403,
     "user": {
      "displayName": "MATÍAS ALEJANDRO MUÑOZ MERINO",
      "userId": "03351317620509931932"
     },
     "user_tz": 180
    },
    "id": "WFrWluQ1F42R",
    "outputId": "8555ae82-3ecc-494a-dbf0-0c63ca6eb64c"
   },
   "outputs": [
    {
     "data": {
      "image/png": "[encoded data removed]",
      "text/plain": [
       "<Figure size 432x288 with 1 Axes>"
      ]
     },
     "metadata": {
      "needs_background": "light"
     },
     "output_type": "display_data"
    }
   ],
   "source": [
    "distortions = []\n",
    "K = range(1,14)\n",
    "for k in K:\n",
    "    kmeanModel = cluster.KMeans(n_clusters=k).fit(songs[['track_pop', 'danceability']])\n",
    "    distortions.append(sum(np.min(cdist(songs[['track_pop', 'danceability']], kmeanModel.cluster_centers_,\n",
    "                                        'euclidean'), axis=1)) / songs[['track_pop', 'danceability']].shape[0])\n",
    "\n",
    "plt.plot(K, distortions, 'bx-')\n",
    "plt.xlabel('Número de clusters (k)')\n",
    "plt.ylabel('Distancia Minima Media')\n",
    "plt.title('Método del Codo para Determinar el Número de Clusters')\n",
    "plt.show()"
   ]
  },
  {
   "cell_type": "markdown",
   "metadata": {
    "id": "j63xXlsLemE8"
   },
   "source": [
    "6 cluster"
   ]
  },
  {
   "cell_type": "markdown",
   "metadata": {
    "id": "jOuF85TWgELN"
   },
   "source": [
    "### Popularidad y bailabilidad"
   ]
  },
  {
   "cell_type": "code",
   "execution_count": 12,
   "metadata": {
    "colab": {
     "base_uri": "https://localhost:8080/",
     "height": 296
    },
    "executionInfo": {
     "elapsed": 991,
     "status": "ok",
     "timestamp": 1669612869388,
     "user": {
      "displayName": "MATÍAS ALEJANDRO MUÑOZ MERINO",
      "userId": "03351317620509931932"
     },
     "user_tz": 180
    },
    "id": "QuRFE55tF42U",
    "outputId": "cf5b36e1-9368-4191-9718-f7c478845106"
   },
   "outputs": [
    {
     "data": {
      "image/png": "[encoded data removed]",
      "text/plain": [
       "<Figure size 432x288 with 1 Axes>"
      ]
     },
     "metadata": {
      "needs_background": "light"
     },
     "output_type": "display_data"
    }
   ],
   "source": [
    "# K-means clustering basado en popularidad y bailabilidad.\n",
    "kmeans = cluster.KMeans(5)\n",
    "kmeans.fit(songs[['track_pop', 'acousticness']])\n",
    "labels = kmeans.labels_\n",
    "centroids = kmeans.cluster_centers_\n",
    "plt.scatter(songs['track_pop'], songs['acousticness'], c=labels)\n",
    "plt.scatter(centroids[:,0], centroids[:,1], marker='x', c='black')\n",
    "plt.ylabel('acousticness')\n",
    "plt.xlabel('Track_Pop')\n",
    "plt.title('Clustering between Popularity and acousticness')\n",
    "plt.show()"
   ]
  },
  {
   "cell_type": "markdown",
   "metadata": {
    "id": "pBR7FkbDgJt8"
   },
   "source": [
    "### Energía"
   ]
  },
  {
   "cell_type": "code",
   "execution_count": 13,
   "metadata": {
    "colab": {
     "base_uri": "https://localhost:8080/",
     "height": 296
    },
    "executionInfo": {
     "elapsed": 776,
     "status": "ok",
     "timestamp": 1669612870161,
     "user": {
      "displayName": "MATÍAS ALEJANDRO MUÑOZ MERINO",
      "userId": "03351317620509931932"
     },
     "user_tz": 180
    },
    "id": "kA2gzSNH2Pni",
    "outputId": "5b00e1e6-9822-4bfc-f5ed-247700083638"
   },
   "outputs": [
    {
     "data": {
      "image/png": "[encoded data removed]",
      "text/plain": [
       "<Figure size 432x288 with 1 Axes>"
      ]
     },
     "metadata": {
      "needs_background": "light"
     },
     "output_type": "display_data"
    }
   ],
   "source": [
    "# K-means clustering basado en popularidad y energía.\n",
    "kmeans = cluster.KMeans(5)\n",
    "kmeans.fit(songs[['track_pop', 'energy']])\n",
    "labels = kmeans.labels_\n",
    "centroids = kmeans.cluster_centers_\n",
    "plt.scatter(songs['track_pop'], songs['energy'], c=labels)\n",
    "plt.scatter(centroids[:,0], centroids[:,1], marker='x', c='black')\n",
    "plt.ylabel('energy')\n",
    "plt.xlabel('Track_Pop')\n",
    "plt.title('Clustering between Popularity and energy')\n",
    "plt.show()"
   ]
  },
  {
   "cell_type": "markdown",
   "metadata": {
    "id": "KH7ALf7PgVIk"
   },
   "source": [
    "### Modo"
   ]
  },
  {
   "cell_type": "code",
   "execution_count": 14,
   "metadata": {
    "colab": {
     "base_uri": "https://localhost:8080/",
     "height": 0
    },
    "executionInfo": {
     "elapsed": 484,
     "status": "ok",
     "timestamp": 1669612870641,
     "user": {
      "displayName": "MATÍAS ALEJANDRO MUÑOZ MERINO",
      "userId": "03351317620509931932"
     },
     "user_tz": 180
    },
    "id": "yad9_dTuddaz",
    "outputId": "9e3dc23d-b529-4705-8b51-afb602c3d53b"
   },
   "outputs": [
    {
     "data": {
      "image/png": "[encoded data removed]",
      "text/plain": [
       "<Figure size 432x288 with 1 Axes>"
      ]
     },
     "metadata": {
      "needs_background": "light"
     },
     "output_type": "display_data"
    }
   ],
   "source": [
    "# K-means clustering basado en popularidad y bailabilidad.\n",
    "kmeans = cluster.KMeans(5)\n",
    "kmeans.fit(songs[['track_pop', 'mode']])\n",
    "labels = kmeans.labels_\n",
    "centroids = kmeans.cluster_centers_\n",
    "plt.scatter(songs['track_pop'], songs['mode'], c=labels)\n",
    "plt.scatter(centroids[:,0], centroids[:,1], marker='x', c='black')\n",
    "plt.ylabel('mode')\n",
    "plt.xlabel('Track_Pop')\n",
    "plt.title('Clustering between Popularity and energy')\n",
    "plt.show()"
   ]
  },
  {
   "cell_type": "markdown",
   "metadata": {
    "id": "iTgnxvfNgZR1"
   },
   "source": [
    "No hay similitud"
   ]
  },
  {
   "cell_type": "markdown",
   "metadata": {
    "id": "DpdU6Dz0gkkb"
   },
   "source": [
    "### Instrumental"
   ]
  },
  {
   "cell_type": "code",
   "execution_count": 15,
   "metadata": {
    "colab": {
     "base_uri": "https://localhost:8080/",
     "height": 296
    },
    "executionInfo": {
     "elapsed": 936,
     "status": "ok",
     "timestamp": 1669612871571,
     "user": {
      "displayName": "MATÍAS ALEJANDRO MUÑOZ MERINO",
      "userId": "03351317620509931932"
     },
     "user_tz": 180
    },
    "id": "6sg8tw0Cfnlj",
    "outputId": "c92efd98-6e96-40d1-8acf-9439d754ec7b"
   },
   "outputs": [
    {
     "data": {
      "image/png": "[encoded data removed]",
      "text/plain": [
       "<Figure size 432x288 with 1 Axes>"
      ]
     },
     "metadata": {
      "needs_background": "light"
     },
     "output_type": "display_data"
    }
   ],
   "source": [
    "# K-means clustering basado en popularidad y instrumental.\n",
    "kmeans = cluster.KMeans(5)\n",
    "kmeans.fit(songs[['track_pop', 'instrumentalness']])\n",
    "labels = kmeans.labels_\n",
    "centroids = kmeans.cluster_centers_\n",
    "plt.scatter(songs['track_pop'], songs['instrumentalness'], c=labels)\n",
    "plt.scatter(centroids[:,0], centroids[:,1], marker='x', c='black')\n",
    "plt.ylabel('instrumentalness')\n",
    "plt.xlabel('Track_Pop')\n",
    "plt.title('Clustering between Popularity and energy')\n",
    "plt.show()"
   ]
  },
  {
   "cell_type": "markdown",
   "metadata": {
    "id": "m7pqNyAfgnp_"
   },
   "source": [
    "Poco variable"
   ]
  },
  {
   "cell_type": "markdown",
   "metadata": {
    "id": "qG6UvytFfxyc"
   },
   "source": [
    "Instrumentalness no se tomará en cuenta para la medición, por la poca variación"
   ]
  },
  {
   "cell_type": "code",
   "execution_count": 16,
   "metadata": {
    "colab": {
     "base_uri": "https://localhost:8080/",
     "height": 296
    },
    "executionInfo": {
     "elapsed": 605,
     "status": "ok",
     "timestamp": 1669612872173,
     "user": {
      "displayName": "MATÍAS ALEJANDRO MUÑOZ MERINO",
      "userId": "03351317620509931932"
     },
     "user_tz": 180
    },
    "id": "9tHhus7vex0s",
    "outputId": "83f57d95-b631-4c7f-dc21-4df0fe40a1d7"
   },
   "outputs": [
    {
     "data": {
      "image/png": "[encoded data removed]",
      "text/plain": [
       "<Figure size 432x288 with 1 Axes>"
      ]
     },
     "metadata": {
      "needs_background": "light"
     },
     "output_type": "display_data"
    }
   ],
   "source": [
    "# K-means clustering basado en popularidad y bailabilidad.\n",
    "kmeans = cluster.KMeans(5)\n",
    "kmeans.fit(songs[['track_pop', 'loudness']])\n",
    "labels = kmeans.labels_\n",
    "centroids = kmeans.cluster_centers_\n",
    "plt.scatter(songs['track_pop'], songs['loudness'], c=labels)\n",
    "plt.scatter(centroids[:,0], centroids[:,1], marker='x', c='black')\n",
    "plt.ylabel('loudness')\n",
    "plt.xlabel('Track_Pop')\n",
    "plt.title('Clustering between Popularity and energy')\n",
    "plt.show()"
   ]
  },
  {
   "cell_type": "markdown",
   "metadata": {
    "id": "JgCjma0nhPnN"
   },
   "source": [
    "### liveness"
   ]
  },
  {
   "cell_type": "code",
   "execution_count": 17,
   "metadata": {
    "colab": {
     "base_uri": "https://localhost:8080/",
     "height": 296
    },
    "executionInfo": {
     "elapsed": 966,
     "status": "ok",
     "timestamp": 1669612873135,
     "user": {
      "displayName": "MATÍAS ALEJANDRO MUÑOZ MERINO",
      "userId": "03351317620509931932"
     },
     "user_tz": 180
    },
    "id": "YLj-sCIrhRue",
    "outputId": "dc87c538-8681-4880-be01-ec29e85f6f3e"
   },
   "outputs": [
    {
     "data": {
      "image/png": "[encoded data removed]",
      "text/plain": [
       "<Figure size 432x288 with 1 Axes>"
      ]
     },
     "metadata": {
      "needs_background": "light"
     },
     "output_type": "display_data"
    }
   ],
   "source": [
    "# K-means clustering basado en popularidad y bailabilidad.\n",
    "kmeans = cluster.KMeans(5)\n",
    "kmeans.fit(songs[['track_pop', 'liveness']])\n",
    "labels = kmeans.labels_\n",
    "centroids = kmeans.cluster_centers_\n",
    "plt.scatter(songs['track_pop'], songs['liveness'], c=labels)\n",
    "plt.scatter(centroids[:,0], centroids[:,1], marker='x', c='black')\n",
    "plt.ylabel('liveness')\n",
    "plt.xlabel('Track_Pop')\n",
    "plt.title('Clustering between Popularity and energy')\n",
    "plt.show()"
   ]
  },
  {
   "cell_type": "markdown",
   "metadata": {
    "id": "f7oSC2CWhvpt"
   },
   "source": [
    "### valence"
   ]
  },
  {
   "cell_type": "code",
   "execution_count": 18,
   "metadata": {
    "colab": {
     "base_uri": "https://localhost:8080/",
     "height": 296
    },
    "executionInfo": {
     "elapsed": 867,
     "status": "ok",
     "timestamp": 1669612874000,
     "user": {
      "displayName": "MATÍAS ALEJANDRO MUÑOZ MERINO",
      "userId": "03351317620509931932"
     },
     "user_tz": 180
    },
    "id": "GEIIUDIKhzLd",
    "outputId": "d3f882e2-288f-4f7c-dfb9-7b047dcee0fb"
   },
   "outputs": [
    {
     "data": {
      "image/png": "[encoded data removed]",
      "text/plain": [
       "<Figure size 432x288 with 1 Axes>"
      ]
     },
     "metadata": {
      "needs_background": "light"
     },
     "output_type": "display_data"
    }
   ],
   "source": [
    "# K-means clustering basado en popularidad y balance.\n",
    "kmeans = cluster.KMeans(5)\n",
    "kmeans.fit(songs[['track_pop', 'valence']])\n",
    "labels = kmeans.labels_\n",
    "centroids = kmeans.cluster_centers_\n",
    "plt.scatter(songs['track_pop'], songs['valence'], c=labels)\n",
    "plt.scatter(centroids[:,0], centroids[:,1], marker='x', c='black')\n",
    "plt.ylabel('valence')\n",
    "plt.xlabel('Track_Pop')\n",
    "plt.title('Clustering between Popularity and energy')\n",
    "plt.show()"
   ]
  },
  {
   "cell_type": "code",
   "execution_count": 19,
   "metadata": {
    "colab": {
     "base_uri": "https://localhost:8080/",
     "height": 382
    },
    "executionInfo": {
     "elapsed": 1497,
     "status": "ok",
     "timestamp": 1669612875493,
     "user": {
      "displayName": "MATÍAS ALEJANDRO MUÑOZ MERINO",
      "userId": "03351317620509931932"
     },
     "user_tz": 180
    },
    "id": "hs27_55jmT8d",
    "outputId": "2e343924-7e91-47ac-8a5d-75fa2806ea20"
   },
   "outputs": [
    {
     "name": "stdout",
     "output_type": "stream",
     "text": [
      "[[82.71186441]\n",
      " [ 5.16666667]\n",
      " [60.84848485]\n",
      " [34.33333333]\n",
      " [72.81690141]]\n"
     ]
    },
    {
     "data": {
      "image/png": "[encoded data removed]",
      "text/plain": [
       "<Figure size 432x288 with 1 Axes>"
      ]
     },
     "metadata": {
      "needs_background": "light"
     },
     "output_type": "display_data"
    }
   ],
   "source": [
    "# K-means clustering basado en popularidad y balance.\n",
    "kmeans = cluster.KMeans(5)\n",
    "kmeans.fit(songs[['track_pop']])\n",
    "labels = kmeans.labels_\n",
    "centroids = kmeans.cluster_centers_\n",
    "plt.scatter(songs['danceability'], songs['tempo'], c=labels)\n",
    "#plt.scatter(centroids[:,0], centroids[:,1], marker='x', c='black')\n",
    "plt.ylabel('tempo')\n",
    "plt.xlabel('danceability')\n",
    "plt.title('Clustering between Popularity and energy')\n",
    "print(centroids)"
   ]
  },
  {
   "cell_type": "markdown",
   "metadata": {
    "id": "zDb3djgULVG7"
   },
   "source": [
    "# Modelo\n"
   ]
  },
  {
   "cell_type": "code",
   "execution_count": 38,
   "metadata": {
    "executionInfo": {
     "elapsed": 253,
     "status": "ok",
     "timestamp": 1669613371381,
     "user": {
      "displayName": "MATÍAS ALEJANDRO MUÑOZ MERINO",
      "userId": "03351317620509931932"
     },
     "user_tz": 180
    },
    "id": "AjoxwNRZLYVM"
   },
   "outputs": [],
   "source": [
    "#Se importan librerias\n",
    "import numpy as np\n",
    "import matplotlib.pyplot as plt\n",
    "import pandas as pd\n",
    "from sklearn.model_selection import train_test_split\n",
    "from sklearn import datasets\n",
    "from sklearn.tree import DecisionTreeClassifier, export_graphviz\n",
    "from graphviz import Digraph\n",
    "from sklearn.ensemble import RandomForestClassifier\n"
   ]
  },
  {
   "cell_type": "code",
   "execution_count": 21,
   "metadata": {
    "colab": {
     "base_uri": "https://localhost:8080/",
     "height": 267
    },
    "executionInfo": {
     "elapsed": 18,
     "status": "ok",
     "timestamp": 1669612875935,
     "user": {
      "displayName": "MATÍAS ALEJANDRO MUÑOZ MERINO",
      "userId": "03351317620509931932"
     },
     "user_tz": 180
    },
    "id": "E5ShQg3rRvG_",
    "outputId": "e172308d-9efa-44fe-a40d-d67645a79929"
   },
   "outputs": [
    {
     "name": "stdout",
     "output_type": "stream",
     "text": [
      "152 38 190\n"
     ]
    },
    {
     "data": {
      "text/html": [
       "\n",
       "  <div id=\"df-d7d128ea-b845-4479-b1e9-ddf7585596b8\">\n",
       "    <div class=\"colab-df-container\">\n",
       "      <div>\n",
       "<style scoped>\n",
       "    .dataframe tbody tr th:only-of-type {\n",
       "        vertical-align: middle;\n",
       "    }\n",
       "\n",
       "    .dataframe tbody tr th {\n",
       "        vertical-align: top;\n",
       "    }\n",
       "\n",
       "    .dataframe thead th {\n",
       "        text-align: right;\n",
       "    }\n",
       "</style>\n",
       "<table border=\"1\" class=\"dataframe\">\n",
       "  <thead>\n",
       "    <tr style=\"text-align: right;\">\n",
       "      <th></th>\n",
       "      <th>artist_pop</th>\n",
       "      <th>track_pop</th>\n",
       "      <th>danceability</th>\n",
       "      <th>energy</th>\n",
       "      <th>loudness</th>\n",
       "      <th>mode</th>\n",
       "      <th>key</th>\n",
       "      <th>speechiness</th>\n",
       "      <th>acousticness</th>\n",
       "      <th>instrumentalness</th>\n",
       "      <th>liveness</th>\n",
       "      <th>valence</th>\n",
       "      <th>tempo</th>\n",
       "      <th>time_signature</th>\n",
       "      <th>duration_ms</th>\n",
       "      <th>popularidad</th>\n",
       "    </tr>\n",
       "  </thead>\n",
       "  <tbody>\n",
       "    <tr>\n",
       "      <th>127</th>\n",
       "      <td>79</td>\n",
       "      <td>80</td>\n",
       "      <td>0.720</td>\n",
       "      <td>0.706</td>\n",
       "      <td>-4.719</td>\n",
       "      <td>1</td>\n",
       "      <td>1</td>\n",
       "      <td>0.0473</td>\n",
       "      <td>0.0684</td>\n",
       "      <td>0.0</td>\n",
       "      <td>0.166</td>\n",
       "      <td>0.620</td>\n",
       "      <td>4</td>\n",
       "      <td>4</td>\n",
       "      <td>187436</td>\n",
       "      <td>5</td>\n",
       "    </tr>\n",
       "    <tr>\n",
       "      <th>53</th>\n",
       "      <td>65</td>\n",
       "      <td>67</td>\n",
       "      <td>0.690</td>\n",
       "      <td>0.843</td>\n",
       "      <td>-2.949</td>\n",
       "      <td>1</td>\n",
       "      <td>1</td>\n",
       "      <td>0.0534</td>\n",
       "      <td>0.0167</td>\n",
       "      <td>0.0</td>\n",
       "      <td>0.346</td>\n",
       "      <td>0.428</td>\n",
       "      <td>4</td>\n",
       "      <td>4</td>\n",
       "      <td>220178</td>\n",
       "      <td>4</td>\n",
       "    </tr>\n",
       "    <tr>\n",
       "      <th>95</th>\n",
       "      <td>61</td>\n",
       "      <td>73</td>\n",
       "      <td>0.691</td>\n",
       "      <td>0.829</td>\n",
       "      <td>-7.179</td>\n",
       "      <td>1</td>\n",
       "      <td>0</td>\n",
       "      <td>0.0412</td>\n",
       "      <td>0.0289</td>\n",
       "      <td>0.0</td>\n",
       "      <td>0.254</td>\n",
       "      <td>0.866</td>\n",
       "      <td>2</td>\n",
       "      <td>4</td>\n",
       "      <td>169154</td>\n",
       "      <td>4</td>\n",
       "    </tr>\n",
       "    <tr>\n",
       "      <th>178</th>\n",
       "      <td>90</td>\n",
       "      <td>72</td>\n",
       "      <td>0.581</td>\n",
       "      <td>0.681</td>\n",
       "      <td>-4.469</td>\n",
       "      <td>1</td>\n",
       "      <td>7</td>\n",
       "      <td>0.0435</td>\n",
       "      <td>0.0472</td>\n",
       "      <td>0.0</td>\n",
       "      <td>0.104</td>\n",
       "      <td>0.634</td>\n",
       "      <td>6</td>\n",
       "      <td>4</td>\n",
       "      <td>256800</td>\n",
       "      <td>4</td>\n",
       "    </tr>\n",
       "    <tr>\n",
       "      <th>77</th>\n",
       "      <td>63</td>\n",
       "      <td>75</td>\n",
       "      <td>0.706</td>\n",
       "      <td>0.751</td>\n",
       "      <td>-6.323</td>\n",
       "      <td>1</td>\n",
       "      <td>9</td>\n",
       "      <td>0.0708</td>\n",
       "      <td>0.1730</td>\n",
       "      <td>0.0</td>\n",
       "      <td>0.168</td>\n",
       "      <td>0.195</td>\n",
       "      <td>2</td>\n",
       "      <td>4</td>\n",
       "      <td>182307</td>\n",
       "      <td>4</td>\n",
       "    </tr>\n",
       "  </tbody>\n",
       "</table>\n",
       "</div>\n",
       "      <button class=\"colab-df-convert\" onclick=\"convertToInteractive('df-d7d128ea-b845-4479-b1e9-ddf7585596b8')\"\n",
       "              title=\"Convert this dataframe to an interactive table.\"\n",
       "              style=\"display:none;\">\n",
       "        \n",
       "  <svg xmlns=\"http://www.w3.org/2000/svg\" height=\"24px\"viewBox=\"0 0 24 24\"\n",
       "       width=\"24px\">\n",
       "    <path d=\"M0 0h24v24H0V0z\" fill=\"none\"/>\n",
       "    <path d=\"M18.56 5.44l.94 2.06.94-2.06 2.06-.94-2.06-.94-.94-2.06-.94 2.06-2.06.94zm-11 1L8.5 8.5l.94-2.06 2.06-.94-2.06-.94L8.5 2.5l-.94 2.06-2.06.94zm10 10l.94 2.06.94-2.06 2.06-.94-2.06-.94-.94-2.06-.94 2.06-2.06.94z\"/><path d=\"M17.41 7.96l-1.37-1.37c-.4-.4-.92-.59-1.43-.59-.52 0-1.04.2-1.43.59L10.3 9.45l-7.72 7.72c-.78.78-.78 2.05 0 2.83L4 21.41c.39.39.9.59 1.41.59.51 0 1.02-.2 1.41-.59l7.78-7.78 2.81-2.81c.8-.78.8-2.07 0-2.86zM5.41 20L4 18.59l7.72-7.72 1.47 1.35L5.41 20z\"/>\n",
       "  </svg>\n",
       "      </button>\n",
       "      \n",
       "  <style>\n",
       "    .colab-df-container {\n",
       "      display:flex;\n",
       "      flex-wrap:wrap;\n",
       "      gap: 12px;\n",
       "    }\n",
       "\n",
       "    .colab-df-convert {\n",
       "      background-color: #E8F0FE;\n",
       "      border: none;\n",
       "      border-radius: 50%;\n",
       "      cursor: pointer;\n",
       "      display: none;\n",
       "      fill: #1967D2;\n",
       "      height: 32px;\n",
       "      padding: 0 0 0 0;\n",
       "      width: 32px;\n",
       "    }\n",
       "\n",
       "    .colab-df-convert:hover {\n",
       "      background-color: #E2EBFA;\n",
       "      box-shadow: 0px 1px 2px rgba(60, 64, 67, 0.3), 0px 1px 3px 1px rgba(60, 64, 67, 0.15);\n",
       "      fill: #174EA6;\n",
       "    }\n",
       "\n",
       "    [theme=dark] .colab-df-convert {\n",
       "      background-color: #3B4455;\n",
       "      fill: #D2E3FC;\n",
       "    }\n",
       "\n",
       "    [theme=dark] .colab-df-convert:hover {\n",
       "      background-color: #434B5C;\n",
       "      box-shadow: 0px 1px 3px 1px rgba(0, 0, 0, 0.15);\n",
       "      filter: drop-shadow(0px 1px 2px rgba(0, 0, 0, 0.3));\n",
       "      fill: #FFFFFF;\n",
       "    }\n",
       "  </style>\n",
       "\n",
       "      <script>\n",
       "        const buttonEl =\n",
       "          document.querySelector('#df-d7d128ea-b845-4479-b1e9-ddf7585596b8 button.colab-df-convert');\n",
       "        buttonEl.style.display =\n",
       "          google.colab.kernel.accessAllowed ? 'block' : 'none';\n",
       "\n",
       "        async function convertToInteractive(key) {\n",
       "          const element = document.querySelector('#df-d7d128ea-b845-4479-b1e9-ddf7585596b8');\n",
       "          const dataTable =\n",
       "            await google.colab.kernel.invokeFunction('convertToInteractive',\n",
       "                                                     [key], {});\n",
       "          if (!dataTable) return;\n",
       "\n",
       "          const docLinkHtml = 'Like what you see? Visit the ' +\n",
       "            '<a target=\"_blank\" href=https://colab.research.google.com/notebooks/data_table.ipynb>data table notebook</a>'\n",
       "            + ' to learn more about interactive tables.';\n",
       "          element.innerHTML = '';\n",
       "          dataTable['output_type'] = 'display_data';\n",
       "          await google.colab.output.renderOutput(dataTable, element);\n",
       "          const docLink = document.createElement('div');\n",
       "          docLink.innerHTML = docLinkHtml;\n",
       "          element.appendChild(docLink);\n",
       "        }\n",
       "      </script>\n",
       "    </div>\n",
       "  </div>\n",
       "  "
      ],
      "text/plain": [
       "     artist_pop  track_pop  danceability  energy  loudness  mode  key  \\\n",
       "127          79         80         0.720   0.706    -4.719     1    1   \n",
       "53           65         67         0.690   0.843    -2.949     1    1   \n",
       "95           61         73         0.691   0.829    -7.179     1    0   \n",
       "178          90         72         0.581   0.681    -4.469     1    7   \n",
       "77           63         75         0.706   0.751    -6.323     1    9   \n",
       "\n",
       "     speechiness  acousticness  instrumentalness  liveness  valence tempo  \\\n",
       "127       0.0473        0.0684               0.0     0.166    0.620     4   \n",
       "53        0.0534        0.0167               0.0     0.346    0.428     4   \n",
       "95        0.0412        0.0289               0.0     0.254    0.866     2   \n",
       "178       0.0435        0.0472               0.0     0.104    0.634     6   \n",
       "77        0.0708        0.1730               0.0     0.168    0.195     2   \n",
       "\n",
       "     time_signature  duration_ms popularidad  \n",
       "127               4       187436           5  \n",
       "53                4       220178           4  \n",
       "95                4       169154           4  \n",
       "178               4       256800           4  \n",
       "77                4       182307           4  "
      ]
     },
     "execution_count": 21,
     "metadata": {},
     "output_type": "execute_result"
    }
   ],
   "source": [
    "df_train, df_test = train_test_split(songs, test_size = 0.2)\n",
    "print(len(df_train), len(df_test), len(songs))\n",
    "df_train.head()"
   ]
  },
  {
   "cell_type": "code",
   "execution_count": 34,
   "metadata": {
    "executionInfo": {
     "elapsed": 243,
     "status": "ok",
     "timestamp": 1669613184508,
     "user": {
      "displayName": "MATÍAS ALEJANDRO MUÑOZ MERINO",
      "userId": "03351317620509931932"
     },
     "user_tz": 180
    },
    "id": "hSgvNATETBaJ"
   },
   "outputs": [],
   "source": [
    "X = songs[['danceability', 'energy', 'loudness', 'key', 'speechiness', 'acousticness', 'liveness', 'valence', 'tempo', 'time_signature','duration_ms']]\n",
    "Y = songs[['popularidad']]"
   ]
  },
  {
   "cell_type": "code",
   "execution_count": 35,
   "metadata": {
    "colab": {
     "base_uri": "https://localhost:8080/"
    },
    "executionInfo": {
     "elapsed": 5,
     "status": "ok",
     "timestamp": 1669613185318,
     "user": {
      "displayName": "MATÍAS ALEJANDRO MUÑOZ MERINO",
      "userId": "03351317620509931932"
     },
     "user_tz": 180
    },
    "id": "Y89022RiSMqk",
    "outputId": "ce8f20b9-a7bb-4bca-9a7c-c64ef59408c0"
   },
   "outputs": [
    {
     "name": "stdout",
     "output_type": "stream",
     "text": [
      "Precisión modelo inicial train/test  0.625/0.500\n"
     ]
    }
   ],
   "source": [
    "# Separando los datos en sets de entrenamiento y evaluación\n",
    "X_train, X_test, y_train, y_test = train_test_split(X, \n",
    "                        Y, test_size = 0.2)\n",
    "\n",
    "# Armando un simple arbol de decisión\n",
    "tree = DecisionTreeClassifier(max_depth=3, random_state=0)\n",
    "tree.fit(X_train, y_train)\n",
    "print('Precisión modelo inicial train/test  {0:.3f}/{1:.3f}'\n",
    "      .format(tree.score(X_train, y_train), tree.score(X_test, y_test)))"
   ]
  },
  {
   "cell_type": "code",
   "execution_count": 36,
   "metadata": {
    "colab": {
     "base_uri": "https://localhost:8080/",
     "height": 519
    },
    "executionInfo": {
     "elapsed": 244,
     "status": "ok",
     "timestamp": 1669613187065,
     "user": {
      "displayName": "MATÍAS ALEJANDRO MUÑOZ MERINO",
      "userId": "03351317620509931932"
     },
     "user_tz": 180
    },
    "id": "MrU-u-rXqrEm",
    "outputId": "30c0b44f-2ec1-4233-e93f-d56cc4fa0b73"
   },
   "outputs": [
    {
     "data": {
      "image/svg+xml": [
       "<?xml version=\"1.0\" encoding=\"UTF-8\" standalone=\"no\"?>\n",
       "<!DOCTYPE svg PUBLIC \"-//W3C//DTD SVG 1.1//EN\"\n",
       " \"http://www.w3.org/Graphics/SVG/1.1/DTD/svg11.dtd\">\n",
       "<!-- Generated by graphviz version 2.40.1 (20161225.0304)\n",
       " -->\n",
       "<!-- Title: Tree Pages: 1 -->\n",
       "<svg width=\"686pt\" height=\"373pt\"\n",
       " viewBox=\"0.00 0.00 685.50 373.00\" xmlns=\"http://www.w3.org/2000/svg\" xmlns:xlink=\"http://www.w3.org/1999/xlink\">\n",
       "<g id=\"graph0\" class=\"graph\" transform=\"scale(1 1) rotate(0) translate(4 369)\">\n",
       "<title>Tree</title>\n",
       "<polygon fill=\"#ffffff\" stroke=\"transparent\" points=\"-4,4 -4,-369 681.5,-369 681.5,4 -4,4\"/>\n",
       "<!-- 0 -->\n",
       "<g id=\"node1\" class=\"node\">\n",
       "<title>0</title>\n",
       "<polygon fill=\"#a2a1f3\" stroke=\"#000000\" points=\"319.5,-365 148.5,-365 148.5,-297 319.5,-297 319.5,-365\"/>\n",
       "<text text-anchor=\"middle\" x=\"234\" y=\"-349.8\" font-family=\"Helvetica,sans-Serif\" font-size=\"14.00\" fill=\"#000000\">valence &lt;= 0.105</text>\n",
       "<text text-anchor=\"middle\" x=\"234\" y=\"-334.8\" font-family=\"Helvetica,sans-Serif\" font-size=\"14.00\" fill=\"#000000\">samples = 152</text>\n",
       "<text text-anchor=\"middle\" x=\"234\" y=\"-319.8\" font-family=\"Helvetica,sans-Serif\" font-size=\"14.00\" fill=\"#000000\">value = [14, 5, 9, 90, 34]</text>\n",
       "<text text-anchor=\"middle\" x=\"234\" y=\"-304.8\" font-family=\"Helvetica,sans-Serif\" font-size=\"14.00\" fill=\"#000000\">class = Muy popular</text>\n",
       "</g>\n",
       "<!-- 1 -->\n",
       "<g id=\"node2\" class=\"node\">\n",
       "<title>1</title>\n",
       "<polygon fill=\"#e539c0\" stroke=\"#000000\" points=\"230.5,-253.5 37.5,-253.5 37.5,-200.5 230.5,-200.5 230.5,-253.5\"/>\n",
       "<text text-anchor=\"middle\" x=\"134\" y=\"-238.3\" font-family=\"Helvetica,sans-Serif\" font-size=\"14.00\" fill=\"#000000\">samples = 2</text>\n",
       "<text text-anchor=\"middle\" x=\"134\" y=\"-223.3\" font-family=\"Helvetica,sans-Serif\" font-size=\"14.00\" fill=\"#000000\">value = [0, 0, 0, 0, 2]</text>\n",
       "<text text-anchor=\"middle\" x=\"134\" y=\"-208.3\" font-family=\"Helvetica,sans-Serif\" font-size=\"14.00\" fill=\"#000000\">class = Demasiado popular</text>\n",
       "</g>\n",
       "<!-- 0&#45;&gt;1 -->\n",
       "<g id=\"edge1\" class=\"edge\">\n",
       "<title>0&#45;&gt;1</title>\n",
       "<path fill=\"none\" stroke=\"#000000\" d=\"M201.2563,-296.9465C190.1354,-285.3809 177.7165,-272.4652 166.6064,-260.9107\"/>\n",
       "<polygon fill=\"#000000\" stroke=\"#000000\" points=\"168.9754,-258.3246 159.5213,-253.5422 163.9295,-263.1764 168.9754,-258.3246\"/>\n",
       "<text text-anchor=\"middle\" x=\"159.0312\" y=\"-274.8374\" font-family=\"Helvetica,sans-Serif\" font-size=\"14.00\" fill=\"#000000\">True</text>\n",
       "</g>\n",
       "<!-- 2 -->\n",
       "<g id=\"node3\" class=\"node\">\n",
       "<title>2</title>\n",
       "<polygon fill=\"#9f9ef2\" stroke=\"#000000\" points=\"419.5,-261 248.5,-261 248.5,-193 419.5,-193 419.5,-261\"/>\n",
       "<text text-anchor=\"middle\" x=\"334\" y=\"-245.8\" font-family=\"Helvetica,sans-Serif\" font-size=\"14.00\" fill=\"#000000\">acousticness &lt;= 0.178</text>\n",
       "<text text-anchor=\"middle\" x=\"334\" y=\"-230.8\" font-family=\"Helvetica,sans-Serif\" font-size=\"14.00\" fill=\"#000000\">samples = 150</text>\n",
       "<text text-anchor=\"middle\" x=\"334\" y=\"-215.8\" font-family=\"Helvetica,sans-Serif\" font-size=\"14.00\" fill=\"#000000\">value = [14, 5, 9, 90, 32]</text>\n",
       "<text text-anchor=\"middle\" x=\"334\" y=\"-200.8\" font-family=\"Helvetica,sans-Serif\" font-size=\"14.00\" fill=\"#000000\">class = Muy popular</text>\n",
       "</g>\n",
       "<!-- 0&#45;&gt;2 -->\n",
       "<g id=\"edge2\" class=\"edge\">\n",
       "<title>0&#45;&gt;2</title>\n",
       "<path fill=\"none\" stroke=\"#000000\" d=\"M266.7437,-296.9465C275.4633,-287.8782 284.9809,-277.9799 294.0399,-268.5585\"/>\n",
       "<polygon fill=\"#000000\" stroke=\"#000000\" points=\"296.7745,-270.7642 301.1827,-261.13 291.7287,-265.9125 296.7745,-270.7642\"/>\n",
       "<text text-anchor=\"middle\" x=\"301.6728\" y=\"-282.4252\" font-family=\"Helvetica,sans-Serif\" font-size=\"14.00\" fill=\"#000000\">False</text>\n",
       "</g>\n",
       "<!-- 3 -->\n",
       "<g id=\"node4\" class=\"node\">\n",
       "<title>3</title>\n",
       "<polygon fill=\"#8583ef\" stroke=\"#000000\" points=\"325.5,-157 162.5,-157 162.5,-89 325.5,-89 325.5,-157\"/>\n",
       "<text text-anchor=\"middle\" x=\"244\" y=\"-141.8\" font-family=\"Helvetica,sans-Serif\" font-size=\"14.00\" fill=\"#000000\">time_signature &lt;= 3.5</text>\n",
       "<text text-anchor=\"middle\" x=\"244\" y=\"-126.8\" font-family=\"Helvetica,sans-Serif\" font-size=\"14.00\" fill=\"#000000\">samples = 87</text>\n",
       "<text text-anchor=\"middle\" x=\"244\" y=\"-111.8\" font-family=\"Helvetica,sans-Serif\" font-size=\"14.00\" fill=\"#000000\">value = [8, 1, 3, 60, 15]</text>\n",
       "<text text-anchor=\"middle\" x=\"244\" y=\"-96.8\" font-family=\"Helvetica,sans-Serif\" font-size=\"14.00\" fill=\"#000000\">class = Muy popular</text>\n",
       "</g>\n",
       "<!-- 2&#45;&gt;3 -->\n",
       "<g id=\"edge3\" class=\"edge\">\n",
       "<title>2&#45;&gt;3</title>\n",
       "<path fill=\"none\" stroke=\"#000000\" d=\"M304.5306,-192.9465C296.7607,-183.968 288.2868,-174.1758 280.2064,-164.8385\"/>\n",
       "<polygon fill=\"#000000\" stroke=\"#000000\" points=\"282.726,-162.4014 273.5356,-157.13 277.4328,-166.982 282.726,-162.4014\"/>\n",
       "</g>\n",
       "<!-- 6 -->\n",
       "<g id=\"node7\" class=\"node\">\n",
       "<title>6</title>\n",
       "<polygon fill=\"#c8c7f8\" stroke=\"#000000\" points=\"506.5,-157 343.5,-157 343.5,-89 506.5,-89 506.5,-157\"/>\n",
       "<text text-anchor=\"middle\" x=\"425\" y=\"-141.8\" font-family=\"Helvetica,sans-Serif\" font-size=\"14.00\" fill=\"#000000\">liveness &lt;= 0.066</text>\n",
       "<text text-anchor=\"middle\" x=\"425\" y=\"-126.8\" font-family=\"Helvetica,sans-Serif\" font-size=\"14.00\" fill=\"#000000\">samples = 63</text>\n",
       "<text text-anchor=\"middle\" x=\"425\" y=\"-111.8\" font-family=\"Helvetica,sans-Serif\" font-size=\"14.00\" fill=\"#000000\">value = [6, 4, 6, 30, 17]</text>\n",
       "<text text-anchor=\"middle\" x=\"425\" y=\"-96.8\" font-family=\"Helvetica,sans-Serif\" font-size=\"14.00\" fill=\"#000000\">class = Muy popular</text>\n",
       "</g>\n",
       "<!-- 2&#45;&gt;6 -->\n",
       "<g id=\"edge6\" class=\"edge\">\n",
       "<title>2&#45;&gt;6</title>\n",
       "<path fill=\"none\" stroke=\"#000000\" d=\"M363.7968,-192.9465C371.653,-183.968 380.2212,-174.1758 388.3913,-164.8385\"/>\n",
       "<polygon fill=\"#000000\" stroke=\"#000000\" points=\"391.1852,-166.9606 395.1363,-157.13 385.9171,-162.351 391.1852,-166.9606\"/>\n",
       "</g>\n",
       "<!-- 4 -->\n",
       "<g id=\"node5\" class=\"node\">\n",
       "<title>4</title>\n",
       "<polygon fill=\"#ffffff\" stroke=\"#000000\" points=\"146,-53 0,-53 0,0 146,0 146,-53\"/>\n",
       "<text text-anchor=\"middle\" x=\"73\" y=\"-37.8\" font-family=\"Helvetica,sans-Serif\" font-size=\"14.00\" fill=\"#000000\">samples = 2</text>\n",
       "<text text-anchor=\"middle\" x=\"73\" y=\"-22.8\" font-family=\"Helvetica,sans-Serif\" font-size=\"14.00\" fill=\"#000000\">value = [1, 0, 0, 0, 1]</text>\n",
       "<text text-anchor=\"middle\" x=\"73\" y=\"-7.8\" font-family=\"Helvetica,sans-Serif\" font-size=\"14.00\" fill=\"#000000\">class = Impopular</text>\n",
       "</g>\n",
       "<!-- 3&#45;&gt;4 -->\n",
       "<g id=\"edge4\" class=\"edge\">\n",
       "<title>3&#45;&gt;4</title>\n",
       "<path fill=\"none\" stroke=\"#000000\" d=\"M183.7118,-88.9777C165.9432,-78.9504 146.5792,-68.0228 129.0859,-58.1508\"/>\n",
       "<polygon fill=\"#000000\" stroke=\"#000000\" points=\"130.5561,-54.9616 120.1269,-53.095 127.1157,-61.0579 130.5561,-54.9616\"/>\n",
       "</g>\n",
       "<!-- 5 -->\n",
       "<g id=\"node6\" class=\"node\">\n",
       "<title>5</title>\n",
       "<polygon fill=\"#817fee\" stroke=\"#000000\" points=\"327.5,-53 164.5,-53 164.5,0 327.5,0 327.5,-53\"/>\n",
       "<text text-anchor=\"middle\" x=\"246\" y=\"-37.8\" font-family=\"Helvetica,sans-Serif\" font-size=\"14.00\" fill=\"#000000\">samples = 85</text>\n",
       "<text text-anchor=\"middle\" x=\"246\" y=\"-22.8\" font-family=\"Helvetica,sans-Serif\" font-size=\"14.00\" fill=\"#000000\">value = [7, 1, 3, 60, 14]</text>\n",
       "<text text-anchor=\"middle\" x=\"246\" y=\"-7.8\" font-family=\"Helvetica,sans-Serif\" font-size=\"14.00\" fill=\"#000000\">class = Muy popular</text>\n",
       "</g>\n",
       "<!-- 3&#45;&gt;5 -->\n",
       "<g id=\"edge5\" class=\"edge\">\n",
       "<title>3&#45;&gt;5</title>\n",
       "<path fill=\"none\" stroke=\"#000000\" d=\"M244.7051,-88.9777C244.8759,-80.7364 245.0593,-71.887 245.2328,-63.5153\"/>\n",
       "<polygon fill=\"#000000\" stroke=\"#000000\" points=\"248.7376,-63.3189 245.4456,-53.2485 241.7391,-63.1738 248.7376,-63.3189\"/>\n",
       "</g>\n",
       "<!-- 7 -->\n",
       "<g id=\"node8\" class=\"node\">\n",
       "<title>7</title>\n",
       "<polygon fill=\"#9cf2e2\" stroke=\"#000000\" points=\"496,-53 350,-53 350,0 496,0 496,-53\"/>\n",
       "<text text-anchor=\"middle\" x=\"423\" y=\"-37.8\" font-family=\"Helvetica,sans-Serif\" font-size=\"14.00\" fill=\"#000000\">samples = 5</text>\n",
       "<text text-anchor=\"middle\" x=\"423\" y=\"-22.8\" font-family=\"Helvetica,sans-Serif\" font-size=\"14.00\" fill=\"#000000\">value = [0, 1, 3, 1, 0]</text>\n",
       "<text text-anchor=\"middle\" x=\"423\" y=\"-7.8\" font-family=\"Helvetica,sans-Serif\" font-size=\"14.00\" fill=\"#000000\">class = Popular</text>\n",
       "</g>\n",
       "<!-- 6&#45;&gt;7 -->\n",
       "<g id=\"edge7\" class=\"edge\">\n",
       "<title>6&#45;&gt;7</title>\n",
       "<path fill=\"none\" stroke=\"#000000\" d=\"M424.2949,-88.9777C424.1241,-80.7364 423.9407,-71.887 423.7672,-63.5153\"/>\n",
       "<polygon fill=\"#000000\" stroke=\"#000000\" points=\"427.2609,-63.1738 423.5544,-53.2485 420.2624,-63.3189 427.2609,-63.1738\"/>\n",
       "</g>\n",
       "<!-- 8 -->\n",
       "<g id=\"node9\" class=\"node\">\n",
       "<title>8</title>\n",
       "<polygon fill=\"#c6c5f7\" stroke=\"#000000\" points=\"677.5,-53 514.5,-53 514.5,0 677.5,0 677.5,-53\"/>\n",
       "<text text-anchor=\"middle\" x=\"596\" y=\"-37.8\" font-family=\"Helvetica,sans-Serif\" font-size=\"14.00\" fill=\"#000000\">samples = 58</text>\n",
       "<text text-anchor=\"middle\" x=\"596\" y=\"-22.8\" font-family=\"Helvetica,sans-Serif\" font-size=\"14.00\" fill=\"#000000\">value = [6, 3, 3, 29, 17]</text>\n",
       "<text text-anchor=\"middle\" x=\"596\" y=\"-7.8\" font-family=\"Helvetica,sans-Serif\" font-size=\"14.00\" fill=\"#000000\">class = Muy popular</text>\n",
       "</g>\n",
       "<!-- 6&#45;&gt;8 -->\n",
       "<g id=\"edge8\" class=\"edge\">\n",
       "<title>6&#45;&gt;8</title>\n",
       "<path fill=\"none\" stroke=\"#000000\" d=\"M485.2882,-88.9777C503.0568,-78.9504 522.4208,-68.0228 539.9141,-58.1508\"/>\n",
       "<polygon fill=\"#000000\" stroke=\"#000000\" points=\"541.8843,-61.0579 548.8731,-53.095 538.4439,-54.9616 541.8843,-61.0579\"/>\n",
       "</g>\n",
       "</g>\n",
       "</svg>\n"
      ],
      "text/plain": [
       "<graphviz.files.Source at 0x7f4bc0cbe090>"
      ]
     },
     "execution_count": 36,
     "metadata": {},
     "output_type": "execute_result"
    }
   ],
   "source": [
    "import graphviz\n",
    "# Dibujando el modelo\n",
    "export_graphviz(tree, out_file=\"tree.dot\", class_names=[\"Impopular\", \"Poco Popular\", \"Popular\", \"Muy popular\", \"Demasiado popular\"], \n",
    "                feature_names=X.columns, impurity=False, filled=True)\n",
    "\n",
    "with open(\"tree.dot\") as f:\n",
    "    dot_graph = f.read()\n",
    "graphviz.Source(dot_graph)"
   ]
  },
  {
   "cell_type": "code",
   "execution_count": 39,
   "metadata": {
    "colab": {
     "base_uri": "https://localhost:8080/"
    },
    "executionInfo": {
     "elapsed": 539,
     "status": "ok",
     "timestamp": 1669613374368,
     "user": {
      "displayName": "MATÍAS ALEJANDRO MUÑOZ MERINO",
      "userId": "03351317620509931932"
     },
     "user_tz": 180
    },
    "id": "HLlZfei9tdB0",
    "outputId": "c54edc60-cb9b-4083-ad93-0272d557407f"
   },
   "outputs": [
    {
     "name": "stderr",
     "output_type": "stream",
     "text": [
      "/usr/local/lib/python3.7/dist-packages/ipykernel_launcher.py:2: DataConversionWarning: A column-vector y was passed when a 1d array was expected. Please change the shape of y to (n_samples,), for example using ravel().\n",
      "  \n"
     ]
    },
    {
     "data": {
      "text/plain": [
       "0.5263157894736842"
      ]
     },
     "execution_count": 39,
     "metadata": {},
     "output_type": "execute_result"
    }
   ],
   "source": [
    "rf = RandomForestClassifier() # Creando el modelo\n",
    "rf.fit(X_train, y_train) # Ajustando el modelo\n",
    "rf.score(X_test,y_test)"
   ]
  },
  {
   "cell_type": "code",
   "execution_count": 40,
   "metadata": {
    "colab": {
     "base_uri": "https://localhost:8080/"
    },
    "executionInfo": {
     "elapsed": 2378,
     "status": "ok",
     "timestamp": 1669613395030,
     "user": {
      "displayName": "MATÍAS ALEJANDRO MUÑOZ MERINO",
      "userId": "03351317620509931932"
     },
     "user_tz": 180
    },
    "id": "l_l9VDr3tozU",
    "outputId": "80626ee0-3440-4437-e899-40c7849323cf"
   },
   "outputs": [
    {
     "name": "stderr",
     "output_type": "stream",
     "text": [
      "/usr/local/lib/python3.7/dist-packages/sklearn/utils/validation.py:993: DataConversionWarning: A column-vector y was passed when a 1d array was expected. Please change the shape of y to (n_samples, ), for example using ravel().\n",
      "  y = column_or_1d(y, warn=True)\n"
     ]
    }
   ],
   "source": [
    "from sklearn.ensemble import AdaBoostClassifier\n",
    "# Utilizando AdaBoost para aumentar la precisión\n",
    "ada = AdaBoostClassifier(base_estimator=tree, n_estimators=500, \n",
    "                         learning_rate=1.5, random_state=1)\n",
    "# Ajustando los datos\n",
    "ada = ada.fit(X_train, y_train)"
   ]
  },
  {
   "cell_type": "code",
   "execution_count": 41,
   "metadata": {
    "colab": {
     "base_uri": "https://localhost:8080/"
    },
    "executionInfo": {
     "elapsed": 240,
     "status": "ok",
     "timestamp": 1669613406479,
     "user": {
      "displayName": "MATÍAS ALEJANDRO MUÑOZ MERINO",
      "userId": "03351317620509931932"
     },
     "user_tz": 180
    },
    "id": "I3htXtkVtr7R",
    "outputId": "caf648e0-40d1-4238-8643-6b875ab41df3"
   },
   "outputs": [
    {
     "data": {
      "text/plain": [
       "0.5263157894736842"
      ]
     },
     "execution_count": 41,
     "metadata": {},
     "output_type": "execute_result"
    }
   ],
   "source": [
    "ada.score(X_test,y_test)"
   ]
  },
  {
   "cell_type": "code",
   "execution_count": 42,
   "metadata": {
    "colab": {
     "base_uri": "https://localhost:8080/"
    },
    "executionInfo": {
     "elapsed": 562,
     "status": "ok",
     "timestamp": 1669613418742,
     "user": {
      "displayName": "MATÍAS ALEJANDRO MUÑOZ MERINO",
      "userId": "03351317620509931932"
     },
     "user_tz": 180
    },
    "id": "fArg-rwstvCo",
    "outputId": "1299f05a-b979-4f6b-f0b8-a0e98fd73b4e"
   },
   "outputs": [
    {
     "data": {
      "text/plain": [
       "0.9736842105263158"
      ]
     },
     "execution_count": 42,
     "metadata": {},
     "output_type": "execute_result"
    }
   ],
   "source": [
    "ada.score(X_train,y_train)"
   ]
  },
  {
   "cell_type": "code",
   "execution_count": 43,
   "metadata": {
    "colab": {
     "base_uri": "https://localhost:8080/"
    },
    "executionInfo": {
     "elapsed": 250,
     "status": "ok",
     "timestamp": 1669613424806,
     "user": {
      "displayName": "MATÍAS ALEJANDRO MUÑOZ MERINO",
      "userId": "03351317620509931932"
     },
     "user_tz": 180
    },
    "id": "Tf9VR8l6tvzN",
    "outputId": "ba6ea4c6-6936-418c-d8bf-fe945e9f20fc"
   },
   "outputs": [
    {
     "data": {
      "text/plain": [
       "array([0.20556717, 0.12062771, 0.07177512, 0.07634126, 0.08504766,\n",
       "       0.08656261, 0.09068561, 0.08505711, 0.04998364, 0.02731474,\n",
       "       0.10103738])"
      ]
     },
     "execution_count": 43,
     "metadata": {},
     "output_type": "execute_result"
    }
   ],
   "source": [
    "ada.feature_importances_"
   ]
  },
  {
   "cell_type": "code",
   "execution_count": 47,
   "metadata": {
    "colab": {
     "base_uri": "https://localhost:8080/",
     "height": 394
    },
    "executionInfo": {
     "elapsed": 214,
     "status": "ok",
     "timestamp": 1669613492513,
     "user": {
      "displayName": "MATÍAS ALEJANDRO MUÑOZ MERINO",
      "userId": "03351317620509931932"
     },
     "user_tz": 180
    },
    "id": "u3Qa0ZTNtyA9",
    "outputId": "dbd69f9e-ebc0-4549-8b87-5ee2708bf5cd"
   },
   "outputs": [
    {
     "data": {
      "text/html": [
       "\n",
       "  <div id=\"df-1fefe84e-f338-4e57-bf19-2a7a2b6f37fb\">\n",
       "    <div class=\"colab-df-container\">\n",
       "      <div>\n",
       "<style scoped>\n",
       "    .dataframe tbody tr th:only-of-type {\n",
       "        vertical-align: middle;\n",
       "    }\n",
       "\n",
       "    .dataframe tbody tr th {\n",
       "        vertical-align: top;\n",
       "    }\n",
       "\n",
       "    .dataframe thead th {\n",
       "        text-align: right;\n",
       "    }\n",
       "</style>\n",
       "<table border=\"1\" class=\"dataframe\">\n",
       "  <thead>\n",
       "    <tr style=\"text-align: right;\">\n",
       "      <th></th>\n",
       "      <th>Caracteristica</th>\n",
       "      <th>importancia</th>\n",
       "    </tr>\n",
       "  </thead>\n",
       "  <tbody>\n",
       "    <tr>\n",
       "      <th>0</th>\n",
       "      <td>danceability</td>\n",
       "      <td>0.205567</td>\n",
       "    </tr>\n",
       "    <tr>\n",
       "      <th>1</th>\n",
       "      <td>energy</td>\n",
       "      <td>0.120628</td>\n",
       "    </tr>\n",
       "    <tr>\n",
       "      <th>10</th>\n",
       "      <td>duration_ms</td>\n",
       "      <td>0.101037</td>\n",
       "    </tr>\n",
       "    <tr>\n",
       "      <th>6</th>\n",
       "      <td>liveness</td>\n",
       "      <td>0.090686</td>\n",
       "    </tr>\n",
       "    <tr>\n",
       "      <th>5</th>\n",
       "      <td>acousticness</td>\n",
       "      <td>0.086563</td>\n",
       "    </tr>\n",
       "    <tr>\n",
       "      <th>7</th>\n",
       "      <td>valence</td>\n",
       "      <td>0.085057</td>\n",
       "    </tr>\n",
       "    <tr>\n",
       "      <th>4</th>\n",
       "      <td>speechiness</td>\n",
       "      <td>0.085048</td>\n",
       "    </tr>\n",
       "    <tr>\n",
       "      <th>3</th>\n",
       "      <td>key</td>\n",
       "      <td>0.076341</td>\n",
       "    </tr>\n",
       "    <tr>\n",
       "      <th>2</th>\n",
       "      <td>loudness</td>\n",
       "      <td>0.071775</td>\n",
       "    </tr>\n",
       "    <tr>\n",
       "      <th>8</th>\n",
       "      <td>tempo</td>\n",
       "      <td>0.049984</td>\n",
       "    </tr>\n",
       "    <tr>\n",
       "      <th>9</th>\n",
       "      <td>time_signature</td>\n",
       "      <td>0.027315</td>\n",
       "    </tr>\n",
       "  </tbody>\n",
       "</table>\n",
       "</div>\n",
       "      <button class=\"colab-df-convert\" onclick=\"convertToInteractive('df-1fefe84e-f338-4e57-bf19-2a7a2b6f37fb')\"\n",
       "              title=\"Convert this dataframe to an interactive table.\"\n",
       "              style=\"display:none;\">\n",
       "        \n",
       "  <svg xmlns=\"http://www.w3.org/2000/svg\" height=\"24px\"viewBox=\"0 0 24 24\"\n",
       "       width=\"24px\">\n",
       "    <path d=\"M0 0h24v24H0V0z\" fill=\"none\"/>\n",
       "    <path d=\"M18.56 5.44l.94 2.06.94-2.06 2.06-.94-2.06-.94-.94-2.06-.94 2.06-2.06.94zm-11 1L8.5 8.5l.94-2.06 2.06-.94-2.06-.94L8.5 2.5l-.94 2.06-2.06.94zm10 10l.94 2.06.94-2.06 2.06-.94-2.06-.94-.94-2.06-.94 2.06-2.06.94z\"/><path d=\"M17.41 7.96l-1.37-1.37c-.4-.4-.92-.59-1.43-.59-.52 0-1.04.2-1.43.59L10.3 9.45l-7.72 7.72c-.78.78-.78 2.05 0 2.83L4 21.41c.39.39.9.59 1.41.59.51 0 1.02-.2 1.41-.59l7.78-7.78 2.81-2.81c.8-.78.8-2.07 0-2.86zM5.41 20L4 18.59l7.72-7.72 1.47 1.35L5.41 20z\"/>\n",
       "  </svg>\n",
       "      </button>\n",
       "      \n",
       "  <style>\n",
       "    .colab-df-container {\n",
       "      display:flex;\n",
       "      flex-wrap:wrap;\n",
       "      gap: 12px;\n",
       "    }\n",
       "\n",
       "    .colab-df-convert {\n",
       "      background-color: #E8F0FE;\n",
       "      border: none;\n",
       "      border-radius: 50%;\n",
       "      cursor: pointer;\n",
       "      display: none;\n",
       "      fill: #1967D2;\n",
       "      height: 32px;\n",
       "      padding: 0 0 0 0;\n",
       "      width: 32px;\n",
       "    }\n",
       "\n",
       "    .colab-df-convert:hover {\n",
       "      background-color: #E2EBFA;\n",
       "      box-shadow: 0px 1px 2px rgba(60, 64, 67, 0.3), 0px 1px 3px 1px rgba(60, 64, 67, 0.15);\n",
       "      fill: #174EA6;\n",
       "    }\n",
       "\n",
       "    [theme=dark] .colab-df-convert {\n",
       "      background-color: #3B4455;\n",
       "      fill: #D2E3FC;\n",
       "    }\n",
       "\n",
       "    [theme=dark] .colab-df-convert:hover {\n",
       "      background-color: #434B5C;\n",
       "      box-shadow: 0px 1px 3px 1px rgba(0, 0, 0, 0.15);\n",
       "      filter: drop-shadow(0px 1px 2px rgba(0, 0, 0, 0.3));\n",
       "      fill: #FFFFFF;\n",
       "    }\n",
       "  </style>\n",
       "\n",
       "      <script>\n",
       "        const buttonEl =\n",
       "          document.querySelector('#df-1fefe84e-f338-4e57-bf19-2a7a2b6f37fb button.colab-df-convert');\n",
       "        buttonEl.style.display =\n",
       "          google.colab.kernel.accessAllowed ? 'block' : 'none';\n",
       "\n",
       "        async function convertToInteractive(key) {\n",
       "          const element = document.querySelector('#df-1fefe84e-f338-4e57-bf19-2a7a2b6f37fb');\n",
       "          const dataTable =\n",
       "            await google.colab.kernel.invokeFunction('convertToInteractive',\n",
       "                                                     [key], {});\n",
       "          if (!dataTable) return;\n",
       "\n",
       "          const docLinkHtml = 'Like what you see? Visit the ' +\n",
       "            '<a target=\"_blank\" href=https://colab.research.google.com/notebooks/data_table.ipynb>data table notebook</a>'\n",
       "            + ' to learn more about interactive tables.';\n",
       "          element.innerHTML = '';\n",
       "          dataTable['output_type'] = 'display_data';\n",
       "          await google.colab.output.renderOutput(dataTable, element);\n",
       "          const docLink = document.createElement('div');\n",
       "          docLink.innerHTML = docLinkHtml;\n",
       "          element.appendChild(docLink);\n",
       "        }\n",
       "      </script>\n",
       "    </div>\n",
       "  </div>\n",
       "  "
      ],
      "text/plain": [
       "    Caracteristica  importancia\n",
       "0     danceability     0.205567\n",
       "1           energy     0.120628\n",
       "10     duration_ms     0.101037\n",
       "6         liveness     0.090686\n",
       "5     acousticness     0.086563\n",
       "7          valence     0.085057\n",
       "4      speechiness     0.085048\n",
       "3              key     0.076341\n",
       "2         loudness     0.071775\n",
       "8            tempo     0.049984\n",
       "9   time_signature     0.027315"
      ]
     },
     "execution_count": 47,
     "metadata": {},
     "output_type": "execute_result"
    }
   ],
   "source": [
    "imp = pd.DataFrame(zip(X.columns, ada.feature_importances_), columns = ['Caracteristica', 'importancia'])\n",
    "imp = imp.sort_values(by = 'importancia', ascending = False)\n",
    "imp"
   ]
  }
 ],
 "metadata": {
  "colab": {
   "collapsed_sections": [
    "KH7ALf7PgVIk"
   ],
   "provenance": []
  },
  "kernelspec": {
   "display_name": "Python 3 (ipykernel)",
   "language": "python",
   "name": "python3"
  },
  "language_info": {
   "codemirror_mode": {
    "name": "ipython",
    "version": 3
   },
   "file_extension": ".py",
   "mimetype": "text/x-python",
   "name": "python",
   "nbconvert_exporter": "python",
   "pygments_lexer": "ipython3",
   "version": "3.10.6"
  },
  "toc": {
   "base_numbering": 1,
   "nav_menu": {},
   "number_sections": true,
   "sideBar": true,
   "skip_h1_title": false,
   "title_cell": "Table of Contents",
   "title_sidebar": "Contents",
   "toc_cell": false,
   "toc_position": {},
   "toc_section_display": true,
   "toc_window_display": false
  },
  "varInspector": {
   "cols": {
    "lenName": 16,
    "lenType": 16,
    "lenVar": 40
   },
   "kernels_config": {
    "python": {
     "delete_cmd_postfix": "",
     "delete_cmd_prefix": "del ",
     "library": "var_list.py",
     "varRefreshCmd": "print(var_dic_list())"
    },
    "r": {
     "delete_cmd_postfix": ") ",
     "delete_cmd_prefix": "rm(",
     "library": "var_list.r",
     "varRefreshCmd": "cat(var_dic_list()) "
    }
   },
   "types_to_exclude": [
    "module",
    "function",
    "builtin_function_or_method",
    "instance",
    "_Feature"
   ],
   "window_display": false
  }
 },
 "nbformat": 4,
 "nbformat_minor": 1
}
